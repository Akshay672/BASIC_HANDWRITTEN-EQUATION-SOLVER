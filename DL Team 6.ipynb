{
 "cells": [
  {
   "cell_type": "markdown",
   "id": "05687df2",
   "metadata": {},
   "source": [
    "<center><font size=\"5\"><b>HANDWRITTEN NUMERICAL SOLVER</b></font> </center>"
   ]
  },
  {
   "cell_type": "markdown",
   "id": "01420403",
   "metadata": {},
   "source": [
    "## Introduction\n",
    "\n",
    "Handwriting is an integral feature of human communications. In addition to smartphones and tablets, new devices such as interactive panels, digital pens, and smart writing surfaces have become widely adopted in offices and educational institutions, opening up new opportunities for technologies that recognise specific handwritten content such as mathematics and diagrams. \n",
    "\n",
    "The advancements in the field of Computer Vision and Natural Language Processing have fostered robust Human Computer Interaction. Computers are being familiarized with the irregularities of the real world. This facilitates humans to use the computing power to perform otherwise time-consuming tasks and solve complex real-world problems. One such application is in the field of mathematics, that is, to solve handwritten mathematical equations.\n",
    "\n",
    "Solving mathematical equations is an integral part of science right from basic schooling to major research applications. The computing power of today can give a great boost to solving mathematical equations at all levels. Given the level of complexity a mathematical equation can reach, it is simpler and faster to write it by hand than type it on a computer. A machine learning enabled handwritten equation solver can be a very important tool to simplify calculations. "
   ]
  },
  {
   "cell_type": "markdown",
   "id": "61b9efbc",
   "metadata": {},
   "source": [
    "## AIM OF THE PROJECT\n",
    "\n",
    "The aim of this project is to build a deep learning model that can recognise handwritten numbers and mathematical symbols, read it as an equation and evaluate it to give the solution."
   ]
  },
  {
   "cell_type": "markdown",
   "id": "c6ae6c0e",
   "metadata": {},
   "source": [
    "  ## Table of Content\n",
    "\n",
    "1. **[Import Libraries](#lib)**\n",
    "\n",
    "\n",
    "2. **[Data Processing](#prep)**\n",
    "\n",
    "      2.1 - **[Image DataGenerator](#datagen)**   \n",
    "      \n",
    "      2.2 - **[Creating Train Set](#cts)**\n",
    "      \n",
    "      2.2 - **[Creating Validation Set](#cvs)**\n",
    "      \n",
    "      \n",
    "      \n",
    "3. **[Model Building](#mod)**\n",
    "\n",
    "      3.1 - **[MODEL 1](#mod1)**   \n",
    "      \n",
    "      3.2 - **[MODEL 2](#mod2)**\n",
    "      \n",
    "      3.2 - **[MODEL 3](#mod3)**\n",
    "      \n",
    "\n",
    "4. **[Saving the Weights](#savewtg)**\n",
    "\n",
    "\n",
    "5. **[Solving HandWritten Equations](#soleq)**\n",
    "\n",
    "\n",
    "6. **[Creating Label Maps for the Classes](#label)**   \n",
    "\n",
    "           \n",
    "7. **[Model Evaluation](#modeleval)**\n",
    "\n",
    "      7.1 - **[TEST CASE 1](#test1)**\n",
    "      \n",
    "      7.2 - **[TEST CASE 2](#test2)**\n",
    "      \n",
    "      7.3 - **[TEST CASE 3](#test3)**\n",
    "      \n",
    "                     \n",
    "8. **[Conclusions](#conclusion)**\n"
   ]
  },
  {
   "cell_type": "markdown",
   "id": "94c1645e",
   "metadata": {},
   "source": [
    "<a id=\"lib\"></a>\n",
    "## 1. Importing Libraries"
   ]
  },
  {
   "cell_type": "code",
   "execution_count": 50,
   "id": "426b4487",
   "metadata": {},
   "outputs": [],
   "source": [
    "import numpy as np\n",
    "import pandas as pd \n",
    "import cv2\n",
    "import tensorflow as tf\n",
    "import matplotlib.pyplot as plt\n",
    "from imutils.contours import sort_contours\n",
    "import imutils\n",
    "from keras import optimizers\n",
    "from keras.layers import Input, Dense\n",
    "from keras.models import Sequential\n",
    "from keras.layers import Conv2D\n",
    "from keras.layers import MaxPooling2D\n",
    "from keras.layers import Dense\n",
    "from keras.layers import Flatten\n",
    "from keras.layers import Dropout,BatchNormalization\n",
    "from keras.preprocessing.image import ImageDataGenerator\n",
    "import os\n",
    "import warnings\n",
    "warnings.filterwarnings('ignore')\n",
    "import random\n",
    "random.seed(123)"
   ]
  },
  {
   "cell_type": "markdown",
   "id": "4184058d",
   "metadata": {},
   "source": [
    "<a id=\"prep\"></a>\n",
    "# 2. Data Processing"
   ]
  },
  {
   "cell_type": "markdown",
   "id": "869410e0",
   "metadata": {},
   "source": [
    "<a id=\"datagen\"></a>\n",
    "### 2.1 ImageDataGenerator"
   ]
  },
  {
   "cell_type": "code",
   "execution_count": 51,
   "id": "d19fec1b",
   "metadata": {},
   "outputs": [],
   "source": [
    "train_datagen = ImageDataGenerator(\n",
    "    rescale = 1./255,#If None or 0, no rescaling is applied.\n",
    "    shear_range = 0.2,  #Float. Shear Intensity (Shear angle in counter-clockwise direction in degrees)\n",
    "    zoom_range = 0.2,  # Float or [lower, upper]. Range for random zoom. \n",
    "    validation_split = 0.30 \n",
    "\n",
    ")"
   ]
  },
  {
   "cell_type": "code",
   "execution_count": 52,
   "id": "b8c33999",
   "metadata": {},
   "outputs": [],
   "source": [
    "#path of the data\n",
    "data_path='C:\\\\Users\\\\DELL\\\\Deep Learning\\\\Final Project\\\\Classes\\\\'"
   ]
  },
  {
   "cell_type": "markdown",
   "id": "58e4b7a4",
   "metadata": {},
   "source": [
    "<a id=\"cvt\"></a>\n",
    "### 2.2 Creating Train Set"
   ]
  },
  {
   "cell_type": "code",
   "execution_count": 54,
   "id": "a26a0fa8",
   "metadata": {},
   "outputs": [
    {
     "name": "stdout",
     "output_type": "stream",
     "text": [
      "Found 210 images belonging to 6 classes.\n"
     ]
    }
   ],
   "source": [
    "train_set = train_datagen.flow_from_directory(\n",
    "    data_path, #path of the data\n",
    "    target_size = (28, 28), #The dimensions to which all images found will be resized.\n",
    "    color_mode = 'grayscale',#Whether the images will be converted to have 1 or 3 color channels.\n",
    "    batch_size = 10,#size of the batches of data (default: 32).\n",
    "    class_mode = 'categorical',#- \"categorical\": 2D numpy array of one-hot encoded labels. Supports multi-label output. -\n",
    "    shuffle = True,#whether to shuffle the data (default: True)\n",
    "    subset='training',#Subset of data (\"training\" or \"validation\")\n",
    "    seed = 123\n",
    ")"
   ]
  },
  {
   "cell_type": "markdown",
   "id": "f015167c",
   "metadata": {},
   "source": [
    "#### Interpretation : \n",
    "\n",
    "The Train Set consists of 210 Images out of 300 Images"
   ]
  },
  {
   "cell_type": "markdown",
   "id": "a9fd46fd",
   "metadata": {},
   "source": [
    "<a id=\"cvs\"></a>\n",
    "### 2.3 Creating Validation Set"
   ]
  },
  {
   "cell_type": "code",
   "execution_count": 56,
   "id": "43e13bd1",
   "metadata": {},
   "outputs": [
    {
     "name": "stdout",
     "output_type": "stream",
     "text": [
      "Found 90 images belonging to 6 classes.\n"
     ]
    }
   ],
   "source": [
    "valid_set = train_datagen.flow_from_directory(\n",
    "    data_path, #path of the data\n",
    "    target_size = (28, 28), #The dimensions to which all images found will be resized.\n",
    "    color_mode = 'grayscale',#Whether the images will be converted to have 1 or 3 color channels.\n",
    "    batch_size = 10,#size of the batches of data (default: 32).\n",
    "    class_mode = 'categorical',##- \"categorical\": 2D numpy array of one-hot encoded labels. Supports multi-label output. -\n",
    "    shuffle = True,#whether to shuffle the data (default: True)\n",
    "    subset='validation',#Subset of data (\"training\" or \"validation\")\n",
    "    seed = 123\n",
    ")"
   ]
  },
  {
   "cell_type": "markdown",
   "id": "c0287f39",
   "metadata": {},
   "source": [
    "#### Interpretation : \n",
    "\n",
    "The Validation Set consists of 90 Images out of 300 Images"
   ]
  },
  {
   "cell_type": "markdown",
   "id": "f2585f07",
   "metadata": {},
   "source": [
    "<a id=\"mod\"></a>\n",
    "# 3. Model Building"
   ]
  },
  {
   "cell_type": "markdown",
   "id": "f17fb726",
   "metadata": {},
   "source": [
    "<a id=\"mod1\"></a>\n",
    "### 3.1 MODEL 1"
   ]
  },
  {
   "cell_type": "code",
   "execution_count": 59,
   "id": "e67d759b",
   "metadata": {},
   "outputs": [],
   "source": [
    "model1 = Sequential()\n",
    "model1.add(Conv2D(30, (5, 5), input_shape=(28, 28, 1), activation='relu'))\n",
    "model1.add(MaxPooling2D(pool_size=(2, 2)))\n",
    "model1.add(Conv2D(10, (3, 3), activation='relu'))\n",
    "model1.add(MaxPooling2D(pool_size=(2, 2)))\n",
    "model1.add(Conv2D(5, (3, 3), activation='relu'))\n",
    "model1.add(MaxPooling2D(pool_size=(2, 2)))\n",
    "model1.add(Dropout(0.1))\n",
    "model1.add(Flatten())\n",
    "model1.add(Dense(128, activation='relu'))\n",
    "model1.add(Dense(64, activation='relu'))\n",
    "model1.add(Dense(6, activation='softmax'))"
   ]
  },
  {
   "cell_type": "code",
   "execution_count": 60,
   "id": "b006e920",
   "metadata": {},
   "outputs": [],
   "source": [
    "# Compile model\n",
    "model1.compile(loss='categorical_crossentropy', optimizer='adam', metrics=['accuracy'])"
   ]
  },
  {
   "cell_type": "code",
   "execution_count": 62,
   "id": "ea1130e2",
   "metadata": {},
   "outputs": [
    {
     "name": "stdout",
     "output_type": "stream",
     "text": [
      "Epoch 1/60\n",
      "21/21 [==============================] - 5s 106ms/step - loss: 1.7959 - accuracy: 0.1450 - val_loss: 1.7882 - val_accuracy: 0.2222\n",
      "Epoch 2/60\n",
      "21/21 [==============================] - 1s 48ms/step - loss: 1.7887 - accuracy: 0.1952 - val_loss: 1.7828 - val_accuracy: 0.1667\n",
      "Epoch 3/60\n",
      "21/21 [==============================] - 1s 47ms/step - loss: 1.7812 - accuracy: 0.2524 - val_loss: 1.7454 - val_accuracy: 0.4556\n",
      "Epoch 4/60\n",
      "21/21 [==============================] - 1s 49ms/step - loss: 1.7442 - accuracy: 0.2769 - val_loss: 1.6471 - val_accuracy: 0.3111\n",
      "Epoch 5/60\n",
      "21/21 [==============================] - 1s 43ms/step - loss: 1.6474 - accuracy: 0.2599 - val_loss: 1.5782 - val_accuracy: 0.3000\n",
      "Epoch 6/60\n",
      "21/21 [==============================] - 1s 46ms/step - loss: 1.5890 - accuracy: 0.2879 - val_loss: 1.4268 - val_accuracy: 0.3444\n",
      "Epoch 7/60\n",
      "21/21 [==============================] - 1s 47ms/step - loss: 1.4397 - accuracy: 0.3884 - val_loss: 1.3531 - val_accuracy: 0.4667\n",
      "Epoch 8/60\n",
      "21/21 [==============================] - 1s 55ms/step - loss: 1.4329 - accuracy: 0.3946 - val_loss: 1.3654 - val_accuracy: 0.4000\n",
      "Epoch 9/60\n",
      "21/21 [==============================] - 1s 49ms/step - loss: 1.3385 - accuracy: 0.4164 - val_loss: 1.3168 - val_accuracy: 0.4444\n",
      "Epoch 10/60\n",
      "21/21 [==============================] - 1s 48ms/step - loss: 1.3574 - accuracy: 0.4357 - val_loss: 1.2667 - val_accuracy: 0.4889\n",
      "Epoch 11/60\n",
      "21/21 [==============================] - 1s 52ms/step - loss: 1.3627 - accuracy: 0.4034 - val_loss: 1.2760 - val_accuracy: 0.5000\n",
      "Epoch 12/60\n",
      "21/21 [==============================] - 1s 54ms/step - loss: 1.3037 - accuracy: 0.4430 - val_loss: 1.2483 - val_accuracy: 0.4444\n",
      "Epoch 13/60\n",
      "21/21 [==============================] - 1s 46ms/step - loss: 1.2689 - accuracy: 0.4226 - val_loss: 1.2635 - val_accuracy: 0.4889\n",
      "Epoch 14/60\n",
      "21/21 [==============================] - 1s 44ms/step - loss: 1.2445 - accuracy: 0.4878 - val_loss: 1.2727 - val_accuracy: 0.4444\n",
      "Epoch 15/60\n",
      "21/21 [==============================] - 1s 39ms/step - loss: 1.2408 - accuracy: 0.4578 - val_loss: 1.2149 - val_accuracy: 0.4889\n",
      "Epoch 16/60\n",
      "21/21 [==============================] - 1s 44ms/step - loss: 1.2453 - accuracy: 0.4116 - val_loss: 1.2436 - val_accuracy: 0.4222\n",
      "Epoch 17/60\n",
      "21/21 [==============================] - 1s 43ms/step - loss: 1.2129 - accuracy: 0.4843 - val_loss: 1.1512 - val_accuracy: 0.5889\n",
      "Epoch 18/60\n",
      "21/21 [==============================] - 1s 48ms/step - loss: 1.1867 - accuracy: 0.5271 - val_loss: 1.2148 - val_accuracy: 0.5111\n",
      "Epoch 19/60\n",
      "21/21 [==============================] - 1s 42ms/step - loss: 1.2464 - accuracy: 0.3937 - val_loss: 1.1287 - val_accuracy: 0.6000\n",
      "Epoch 20/60\n",
      "21/21 [==============================] - 1s 46ms/step - loss: 1.2381 - accuracy: 0.5204 - val_loss: 1.1301 - val_accuracy: 0.5111\n",
      "Epoch 21/60\n",
      "21/21 [==============================] - 1s 45ms/step - loss: 1.0858 - accuracy: 0.5257 - val_loss: 1.1254 - val_accuracy: 0.5222\n",
      "Epoch 22/60\n",
      "21/21 [==============================] - 1s 42ms/step - loss: 1.0804 - accuracy: 0.5244 - val_loss: 1.1278 - val_accuracy: 0.5556\n",
      "Epoch 23/60\n",
      "21/21 [==============================] - 1s 40ms/step - loss: 1.1345 - accuracy: 0.5744 - val_loss: 1.1044 - val_accuracy: 0.5444\n",
      "Epoch 24/60\n",
      "21/21 [==============================] - 1s 42ms/step - loss: 1.1090 - accuracy: 0.4973 - val_loss: 1.1593 - val_accuracy: 0.5556\n",
      "Epoch 25/60\n",
      "21/21 [==============================] - 1s 44ms/step - loss: 1.1875 - accuracy: 0.4343 - val_loss: 1.0540 - val_accuracy: 0.5667\n",
      "Epoch 26/60\n",
      "21/21 [==============================] - 1s 41ms/step - loss: 1.0742 - accuracy: 0.5553 - val_loss: 0.9956 - val_accuracy: 0.5889\n",
      "Epoch 27/60\n",
      "21/21 [==============================] - 1s 42ms/step - loss: 1.0773 - accuracy: 0.5337 - val_loss: 1.0926 - val_accuracy: 0.5444\n",
      "Epoch 28/60\n",
      "21/21 [==============================] - 1s 49ms/step - loss: 1.0113 - accuracy: 0.5933 - val_loss: 0.9818 - val_accuracy: 0.6222\n",
      "Epoch 29/60\n",
      "21/21 [==============================] - 1s 50ms/step - loss: 1.0355 - accuracy: 0.5134 - val_loss: 0.9828 - val_accuracy: 0.5667\n",
      "Epoch 30/60\n",
      "21/21 [==============================] - 1s 52ms/step - loss: 1.0757 - accuracy: 0.5890 - val_loss: 0.9395 - val_accuracy: 0.6444\n",
      "Epoch 31/60\n",
      "21/21 [==============================] - 1s 54ms/step - loss: 0.9714 - accuracy: 0.6089 - val_loss: 0.9945 - val_accuracy: 0.5667\n",
      "Epoch 32/60\n",
      "21/21 [==============================] - 1s 61ms/step - loss: 1.1078 - accuracy: 0.5092 - val_loss: 1.0147 - val_accuracy: 0.5778\n",
      "Epoch 33/60\n",
      "21/21 [==============================] - 1s 55ms/step - loss: 0.9411 - accuracy: 0.6078 - val_loss: 0.9334 - val_accuracy: 0.6556\n",
      "Epoch 34/60\n",
      "21/21 [==============================] - 1s 47ms/step - loss: 1.0098 - accuracy: 0.5486 - val_loss: 0.9006 - val_accuracy: 0.6667\n",
      "Epoch 35/60\n",
      "21/21 [==============================] - 1s 43ms/step - loss: 0.9909 - accuracy: 0.5581 - val_loss: 0.9001 - val_accuracy: 0.7111\n",
      "Epoch 36/60\n",
      "21/21 [==============================] - 1s 40ms/step - loss: 0.8761 - accuracy: 0.6287 - val_loss: 0.8797 - val_accuracy: 0.5889\n",
      "Epoch 37/60\n",
      "21/21 [==============================] - 1s 40ms/step - loss: 0.9379 - accuracy: 0.5926 - val_loss: 0.9214 - val_accuracy: 0.6556\n",
      "Epoch 38/60\n",
      "21/21 [==============================] - 1s 40ms/step - loss: 0.8129 - accuracy: 0.6636 - val_loss: 0.8526 - val_accuracy: 0.7000\n",
      "Epoch 39/60\n",
      "21/21 [==============================] - 1s 42ms/step - loss: 0.8679 - accuracy: 0.6601 - val_loss: 0.8260 - val_accuracy: 0.6556\n",
      "Epoch 40/60\n",
      "21/21 [==============================] - 1s 35ms/step - loss: 0.8662 - accuracy: 0.7099 - val_loss: 0.9280 - val_accuracy: 0.6333\n",
      "Epoch 41/60\n",
      "21/21 [==============================] - 1s 43ms/step - loss: 0.9002 - accuracy: 0.6471 - val_loss: 0.7824 - val_accuracy: 0.7667\n",
      "Epoch 42/60\n",
      "21/21 [==============================] - 1s 48ms/step - loss: 0.8125 - accuracy: 0.6772 - val_loss: 0.8026 - val_accuracy: 0.6556\n",
      "Epoch 43/60\n",
      "21/21 [==============================] - 1s 49ms/step - loss: 0.7969 - accuracy: 0.7242 - val_loss: 0.7968 - val_accuracy: 0.7222\n",
      "Epoch 44/60\n",
      "21/21 [==============================] - 1s 48ms/step - loss: 0.7677 - accuracy: 0.7396 - val_loss: 0.8214 - val_accuracy: 0.7222\n",
      "Epoch 45/60\n",
      "21/21 [==============================] - 1s 50ms/step - loss: 0.8570 - accuracy: 0.6947 - val_loss: 0.7601 - val_accuracy: 0.7444\n",
      "Epoch 46/60\n",
      "21/21 [==============================] - 1s 60ms/step - loss: 0.7557 - accuracy: 0.7289 - val_loss: 0.6824 - val_accuracy: 0.7444\n",
      "Epoch 47/60\n",
      "21/21 [==============================] - 1s 63ms/step - loss: 0.7706 - accuracy: 0.7217 - val_loss: 0.7243 - val_accuracy: 0.8000\n",
      "Epoch 48/60\n",
      "21/21 [==============================] - 1s 53ms/step - loss: 0.6882 - accuracy: 0.7535 - val_loss: 0.6947 - val_accuracy: 0.7444\n",
      "Epoch 49/60\n",
      "21/21 [==============================] - 1s 52ms/step - loss: 0.7830 - accuracy: 0.7075 - val_loss: 0.6127 - val_accuracy: 0.8222\n",
      "Epoch 50/60\n",
      "21/21 [==============================] - 1s 45ms/step - loss: 0.6565 - accuracy: 0.7486 - val_loss: 0.6687 - val_accuracy: 0.7778\n",
      "Epoch 51/60\n",
      "21/21 [==============================] - 1s 54ms/step - loss: 0.5619 - accuracy: 0.7937 - val_loss: 0.8010 - val_accuracy: 0.7556\n",
      "Epoch 52/60\n",
      "21/21 [==============================] - 1s 51ms/step - loss: 0.8231 - accuracy: 0.7263 - val_loss: 0.7057 - val_accuracy: 0.7556\n",
      "Epoch 53/60\n",
      "21/21 [==============================] - 1s 44ms/step - loss: 0.7151 - accuracy: 0.7605 - val_loss: 0.6106 - val_accuracy: 0.8000\n",
      "Epoch 54/60\n",
      "21/21 [==============================] - 1s 43ms/step - loss: 0.5353 - accuracy: 0.8219 - val_loss: 0.6417 - val_accuracy: 0.7667\n",
      "Epoch 55/60\n",
      "21/21 [==============================] - 1s 51ms/step - loss: 0.5482 - accuracy: 0.8163 - val_loss: 0.5574 - val_accuracy: 0.8000\n",
      "Epoch 56/60\n",
      "21/21 [==============================] - 1s 48ms/step - loss: 0.5765 - accuracy: 0.8093 - val_loss: 0.5328 - val_accuracy: 0.8333\n",
      "Epoch 57/60\n",
      "21/21 [==============================] - 1s 46ms/step - loss: 0.5388 - accuracy: 0.8160 - val_loss: 0.4450 - val_accuracy: 0.8556\n",
      "Epoch 58/60\n",
      "21/21 [==============================] - 1s 46ms/step - loss: 0.4602 - accuracy: 0.8402 - val_loss: 0.5249 - val_accuracy: 0.8333\n"
     ]
    },
    {
     "name": "stdout",
     "output_type": "stream",
     "text": [
      "Epoch 59/60\n",
      "21/21 [==============================] - 1s 46ms/step - loss: 0.6412 - accuracy: 0.7823 - val_loss: 0.5334 - val_accuracy: 0.8111\n",
      "Epoch 60/60\n",
      "21/21 [==============================] - 1s 44ms/step - loss: 0.4127 - accuracy: 0.8763 - val_loss: 0.5067 - val_accuracy: 0.8556\n"
     ]
    }
   ],
   "source": [
    "M1=model1.fit(train_set,validation_data=valid_set, epochs=60,verbose=1)"
   ]
  },
  {
   "cell_type": "markdown",
   "id": "6323623f",
   "metadata": {},
   "source": [
    "#### Interpretation :\n",
    "There is an overfitting but the losses for both Train and validation is comparitively High with respect to less number of Data"
   ]
  },
  {
   "cell_type": "code",
   "execution_count": 64,
   "id": "001af941",
   "metadata": {},
   "outputs": [],
   "source": [
    "def plot_performance(model_history):\n",
    "    plt.figure(figsize=(15, 5))\n",
    "    plt.subplot(1,2,1)\n",
    "    plt.grid(True)\n",
    "    plt.plot(model_history.history['accuracy'], 'b', label='train_acc')\n",
    "    plt.plot(model_history.history['val_accuracy'], 'y', label='val_acc')\n",
    "    plt.legend()\n",
    "    plt.title(\"Train-Validation accuracy vs Epochs\")\n",
    "    plt.subplot(1,2,2)\n",
    "    plt.grid(True)\n",
    "    plt.plot(model_history.history['loss'], 'b--', label='train_loss')\n",
    "    plt.plot(model_history.history['val_loss'], 'y--', label='val_loss')\n",
    "    plt.title(\"Train-Validation Loss vs Epochs\")\n",
    "    plt.legend()\n",
    "    plt.show()"
   ]
  },
  {
   "cell_type": "code",
   "execution_count": 65,
   "id": "fa409549",
   "metadata": {},
   "outputs": [
    {
     "data": {
      "image/png": "[encoded data removed]",
      "text/plain": [
       "<Figure size 1080x360 with 2 Axes>"
      ]
     },
     "metadata": {
      "needs_background": "light"
     },
     "output_type": "display_data"
    }
   ],
   "source": [
    "plot_performance(M1)"
   ]
  },
  {
   "cell_type": "markdown",
   "id": "9c0a9f98",
   "metadata": {},
   "source": [
    "#### Interpretation :\n",
    "\n",
    "It is evident from the graph that Train and Validation Accuracy go hand in hand overcoming Overfitting. But the loss clearly states that it is High. Hence we need to improve the Model further."
   ]
  },
  {
   "cell_type": "markdown",
   "id": "5be48ed1",
   "metadata": {},
   "source": [
    "<a id=\"mod2\"></a>\n",
    "### 3.2 MODEL 2"
   ]
  },
  {
   "cell_type": "code",
   "execution_count": 68,
   "id": "da243cc9",
   "metadata": {},
   "outputs": [],
   "source": [
    "model2 = Sequential()\n",
    "model2.add(Conv2D(30, (3, 3), input_shape=(28, 28, 1), activation='relu'))\n",
    "model2.add(MaxPooling2D(pool_size=(2, 2)))\n",
    "model2.add(Conv2D(20, (3, 3), activation='relu'))\n",
    "model2.add(MaxPooling2D(pool_size=(2, 2)))\n",
    "model2.add(Conv2D(15, (3, 3), activation='relu'))\n",
    "model2.add(MaxPooling2D(pool_size=(2, 2)))\n",
    "model2.add(Dropout(0.1))\n",
    "model2.add(Flatten())\n",
    "#model2.add(Dense(128, activation='relu'))\n",
    "model2.add(Dense(64, activation='relu'))\n",
    "model2.add(Dense(6, activation='softmax'))"
   ]
  },
  {
   "cell_type": "code",
   "execution_count": 69,
   "id": "f2a20abc",
   "metadata": {},
   "outputs": [],
   "source": [
    "# Compile model\n",
    "model2.compile(loss='categorical_crossentropy', optimizer='adam', metrics=['accuracy'])"
   ]
  },
  {
   "cell_type": "code",
   "execution_count": 71,
   "id": "0eddc760",
   "metadata": {},
   "outputs": [
    {
     "name": "stdout",
     "output_type": "stream",
     "text": [
      "Epoch 1/60\n",
      "21/21 [==============================] - 4s 78ms/step - loss: 1.7992 - accuracy: 0.0965 - val_loss: 1.7917 - val_accuracy: 0.1667\n",
      "Epoch 2/60\n",
      "21/21 [==============================] - 1s 42ms/step - loss: 1.7912 - accuracy: 0.2156 - val_loss: 1.7905 - val_accuracy: 0.1556\n",
      "Epoch 3/60\n",
      "21/21 [==============================] - 1s 50ms/step - loss: 1.7865 - accuracy: 0.2244 - val_loss: 1.7869 - val_accuracy: 0.1667\n",
      "Epoch 4/60\n",
      "21/21 [==============================] - 1s 52ms/step - loss: 1.7912 - accuracy: 0.1434 - val_loss: 1.7761 - val_accuracy: 0.2778\n",
      "Epoch 5/60\n",
      "21/21 [==============================] - 1s 48ms/step - loss: 1.7734 - accuracy: 0.2582 - val_loss: 1.7480 - val_accuracy: 0.2667\n",
      "Epoch 6/60\n",
      "21/21 [==============================] - 1s 43ms/step - loss: 1.7390 - accuracy: 0.2625 - val_loss: 1.7021 - val_accuracy: 0.3333\n",
      "Epoch 7/60\n",
      "21/21 [==============================] - 1s 38ms/step - loss: 1.7045 - accuracy: 0.2787 - val_loss: 1.5840 - val_accuracy: 0.3444\n",
      "Epoch 8/60\n",
      "21/21 [==============================] - 1s 38ms/step - loss: 1.5753 - accuracy: 0.3602 - val_loss: 1.4278 - val_accuracy: 0.4778\n",
      "Epoch 9/60\n",
      "21/21 [==============================] - 1s 40ms/step - loss: 1.4678 - accuracy: 0.4682 - val_loss: 1.2783 - val_accuracy: 0.5222\n",
      "Epoch 10/60\n",
      "21/21 [==============================] - 1s 43ms/step - loss: 1.3203 - accuracy: 0.4700 - val_loss: 1.1087 - val_accuracy: 0.6889\n",
      "Epoch 11/60\n",
      "21/21 [==============================] - 1s 37ms/step - loss: 1.1834 - accuracy: 0.5528 - val_loss: 0.9109 - val_accuracy: 0.8111\n",
      "Epoch 12/60\n",
      "21/21 [==============================] - 1s 41ms/step - loss: 1.0304 - accuracy: 0.6749 - val_loss: 0.8686 - val_accuracy: 0.7000\n",
      "Epoch 13/60\n",
      "21/21 [==============================] - 1s 39ms/step - loss: 0.8798 - accuracy: 0.6671 - val_loss: 0.6965 - val_accuracy: 0.8222\n",
      "Epoch 14/60\n",
      "21/21 [==============================] - 1s 40ms/step - loss: 0.8320 - accuracy: 0.7465 - val_loss: 0.6567 - val_accuracy: 0.8444\n",
      "Epoch 15/60\n",
      "21/21 [==============================] - 1s 38ms/step - loss: 0.7729 - accuracy: 0.7428 - val_loss: 0.5597 - val_accuracy: 0.9000\n",
      "Epoch 16/60\n",
      "21/21 [==============================] - 1s 40ms/step - loss: 0.6544 - accuracy: 0.8020 - val_loss: 0.5424 - val_accuracy: 0.8556\n",
      "Epoch 17/60\n",
      "21/21 [==============================] - 1s 39ms/step - loss: 0.5835 - accuracy: 0.8366 - val_loss: 0.4425 - val_accuracy: 0.8667\n",
      "Epoch 18/60\n",
      "21/21 [==============================] - 1s 39ms/step - loss: 0.5773 - accuracy: 0.7966 - val_loss: 0.3693 - val_accuracy: 0.9000\n",
      "Epoch 19/60\n",
      "21/21 [==============================] - 1s 48ms/step - loss: 0.5718 - accuracy: 0.7708 - val_loss: 0.3663 - val_accuracy: 0.9222\n",
      "Epoch 20/60\n",
      "21/21 [==============================] - 1s 47ms/step - loss: 0.4933 - accuracy: 0.8442 - val_loss: 0.3669 - val_accuracy: 0.9000\n",
      "Epoch 21/60\n",
      "21/21 [==============================] - 1s 51ms/step - loss: 0.4889 - accuracy: 0.8481 - val_loss: 0.3724 - val_accuracy: 0.8889\n",
      "Epoch 22/60\n",
      "21/21 [==============================] - 1s 50ms/step - loss: 0.3904 - accuracy: 0.8769 - val_loss: 0.3180 - val_accuracy: 0.9556\n",
      "Epoch 23/60\n",
      "21/21 [==============================] - 1s 54ms/step - loss: 0.4038 - accuracy: 0.8671 - val_loss: 0.4399 - val_accuracy: 0.8778\n",
      "Epoch 24/60\n",
      "21/21 [==============================] - 1s 51ms/step - loss: 0.4259 - accuracy: 0.8825 - val_loss: 0.2249 - val_accuracy: 0.9444\n",
      "Epoch 25/60\n",
      "21/21 [==============================] - 1s 41ms/step - loss: 0.4160 - accuracy: 0.8303 - val_loss: 0.2884 - val_accuracy: 0.9222\n",
      "Epoch 26/60\n",
      "21/21 [==============================] - 1s 47ms/step - loss: 0.4104 - accuracy: 0.8407 - val_loss: 0.2845 - val_accuracy: 0.9333\n",
      "Epoch 27/60\n",
      "21/21 [==============================] - 1s 44ms/step - loss: 0.4009 - accuracy: 0.8420 - val_loss: 0.1889 - val_accuracy: 0.9667\n",
      "Epoch 28/60\n",
      "21/21 [==============================] - 1s 46ms/step - loss: 0.3310 - accuracy: 0.9033 - val_loss: 0.3247 - val_accuracy: 0.9111\n",
      "Epoch 29/60\n",
      "21/21 [==============================] - 1s 43ms/step - loss: 0.3590 - accuracy: 0.8800 - val_loss: 0.1677 - val_accuracy: 0.9778\n",
      "Epoch 30/60\n",
      "21/21 [==============================] - 1s 40ms/step - loss: 0.3465 - accuracy: 0.9169 - val_loss: 0.2248 - val_accuracy: 0.9333\n",
      "Epoch 31/60\n",
      "21/21 [==============================] - 1s 40ms/step - loss: 0.3283 - accuracy: 0.8829 - val_loss: 0.2173 - val_accuracy: 0.9444\n",
      "Epoch 32/60\n",
      "21/21 [==============================] - 1s 41ms/step - loss: 0.3479 - accuracy: 0.8868 - val_loss: 0.2442 - val_accuracy: 0.9333\n",
      "Epoch 33/60\n",
      "21/21 [==============================] - 1s 42ms/step - loss: 0.2533 - accuracy: 0.9312 - val_loss: 0.2114 - val_accuracy: 0.9333\n",
      "Epoch 34/60\n",
      "21/21 [==============================] - 1s 40ms/step - loss: 0.3281 - accuracy: 0.9057 - val_loss: 0.2528 - val_accuracy: 0.9444\n",
      "Epoch 35/60\n",
      "21/21 [==============================] - 1s 44ms/step - loss: 0.2229 - accuracy: 0.9361 - val_loss: 0.1478 - val_accuracy: 0.9667\n",
      "Epoch 36/60\n",
      "21/21 [==============================] - 1s 46ms/step - loss: 0.2631 - accuracy: 0.9006 - val_loss: 0.3088 - val_accuracy: 0.9111\n",
      "Epoch 37/60\n",
      "21/21 [==============================] - 1s 44ms/step - loss: 0.2158 - accuracy: 0.9043 - val_loss: 0.2367 - val_accuracy: 0.9444\n",
      "Epoch 38/60\n",
      "21/21 [==============================] - 1s 38ms/step - loss: 0.2997 - accuracy: 0.8928 - val_loss: 0.2003 - val_accuracy: 0.9667\n",
      "Epoch 39/60\n",
      "21/21 [==============================] - 1s 39ms/step - loss: 0.2796 - accuracy: 0.9058 - val_loss: 0.2340 - val_accuracy: 0.9222\n",
      "Epoch 40/60\n",
      "21/21 [==============================] - 1s 37ms/step - loss: 0.2082 - accuracy: 0.9378 - val_loss: 0.1756 - val_accuracy: 0.9556\n",
      "Epoch 41/60\n",
      "21/21 [==============================] - 1s 51ms/step - loss: 0.2256 - accuracy: 0.9271 - val_loss: 0.2569 - val_accuracy: 0.9333\n",
      "Epoch 42/60\n",
      "21/21 [==============================] - 1s 48ms/step - loss: 0.2742 - accuracy: 0.8866 - val_loss: 0.2165 - val_accuracy: 0.9556\n",
      "Epoch 43/60\n",
      "21/21 [==============================] - 1s 44ms/step - loss: 0.1479 - accuracy: 0.9647 - val_loss: 0.2691 - val_accuracy: 0.9444\n",
      "Epoch 44/60\n",
      "21/21 [==============================] - 1s 42ms/step - loss: 0.1869 - accuracy: 0.9497 - val_loss: 0.1938 - val_accuracy: 0.9556\n",
      "Epoch 45/60\n",
      "21/21 [==============================] - 1s 43ms/step - loss: 0.3536 - accuracy: 0.8793 - val_loss: 0.2758 - val_accuracy: 0.9556\n",
      "Epoch 46/60\n",
      "21/21 [==============================] - 1s 46ms/step - loss: 0.1343 - accuracy: 0.9474 - val_loss: 0.2912 - val_accuracy: 0.9111\n",
      "Epoch 47/60\n",
      "21/21 [==============================] - 1s 40ms/step - loss: 0.2530 - accuracy: 0.8964 - val_loss: 0.1651 - val_accuracy: 0.9444\n",
      "Epoch 48/60\n",
      "21/21 [==============================] - 1s 39ms/step - loss: 0.1745 - accuracy: 0.9444 - val_loss: 0.2560 - val_accuracy: 0.9444\n",
      "Epoch 49/60\n",
      "21/21 [==============================] - 1s 37ms/step - loss: 0.3050 - accuracy: 0.8743 - val_loss: 0.1632 - val_accuracy: 0.9556\n",
      "Epoch 50/60\n",
      "21/21 [==============================] - 1s 43ms/step - loss: 0.2400 - accuracy: 0.8752 - val_loss: 0.1869 - val_accuracy: 0.9444\n",
      "Epoch 51/60\n",
      "21/21 [==============================] - 1s 44ms/step - loss: 0.2059 - accuracy: 0.9363 - val_loss: 0.1891 - val_accuracy: 0.9667\n",
      "Epoch 52/60\n",
      "21/21 [==============================] - 1s 46ms/step - loss: 0.2409 - accuracy: 0.9193 - val_loss: 0.1816 - val_accuracy: 0.9444\n",
      "Epoch 53/60\n",
      "21/21 [==============================] - 1s 46ms/step - loss: 0.1293 - accuracy: 0.9519 - val_loss: 0.2576 - val_accuracy: 0.9333\n",
      "Epoch 54/60\n",
      "21/21 [==============================] - 1s 40ms/step - loss: 0.2005 - accuracy: 0.9205 - val_loss: 0.1883 - val_accuracy: 0.9556\n",
      "Epoch 55/60\n",
      "21/21 [==============================] - 1s 43ms/step - loss: 0.2208 - accuracy: 0.9172 - val_loss: 0.2979 - val_accuracy: 0.9222\n",
      "Epoch 56/60\n",
      "21/21 [==============================] - 1s 51ms/step - loss: 0.1284 - accuracy: 0.9587 - val_loss: 0.2398 - val_accuracy: 0.9444\n",
      "Epoch 57/60\n",
      "21/21 [==============================] - 1s 43ms/step - loss: 0.1108 - accuracy: 0.9768 - val_loss: 0.2318 - val_accuracy: 0.9667\n",
      "Epoch 58/60\n",
      "21/21 [==============================] - 1s 44ms/step - loss: 0.2024 - accuracy: 0.9375 - val_loss: 0.1894 - val_accuracy: 0.9667\n",
      "Epoch 59/60\n",
      "21/21 [==============================] - 1s 40ms/step - loss: 0.1882 - accuracy: 0.9322 - val_loss: 0.1017 - val_accuracy: 0.9556\n",
      "Epoch 60/60\n",
      "21/21 [==============================] - 1s 40ms/step - loss: 0.1965 - accuracy: 0.9438 - val_loss: 0.1894 - val_accuracy: 0.9556\n"
     ]
    }
   ],
   "source": [
    "M2=model2.fit(train_set,validation_data=valid_set, epochs=60,shuffle=True,verbose=1)"
   ]
  },
  {
   "cell_type": "code",
   "execution_count": 72,
   "id": "2f18afc9",
   "metadata": {},
   "outputs": [
    {
     "data": {
      "image/png": "[encoded data removed]",
      "text/plain": [
       "<Figure size 1080x360 with 2 Axes>"
      ]
     },
     "metadata": {
      "needs_background": "light"
     },
     "output_type": "display_data"
    }
   ],
   "source": [
    "plot_performance(M2)"
   ]
  },
  {
   "cell_type": "markdown",
   "id": "ab032ad4",
   "metadata": {},
   "source": [
    "#### Interpretation :\n",
    "\n",
    "From the Above graph the train and Validation Accuracy has improved compared to Model 1. We can see that Overfitting is handled better.\n",
    "It is important to notice that the Losses have drastically decreased less than 25%, which indicates a good sign of Model Performance."
   ]
  },
  {
   "cell_type": "markdown",
   "id": "234e9de1",
   "metadata": {},
   "source": [
    "<a id=\"mod3\"></a>\n",
    "### 3.3 MODEL 3"
   ]
  },
  {
   "cell_type": "code",
   "execution_count": 75,
   "id": "b5e540fe",
   "metadata": {},
   "outputs": [],
   "source": [
    "model3 = Sequential()\n",
    "model3.add(Conv2D(10, (3, 3), input_shape=(28, 28, 1), activation='relu'))\n",
    "model3.add(MaxPooling2D(pool_size=(2, 2)))\n",
    "model3.add(Conv2D(5, (3, 3), activation='relu'))\n",
    "model3.add(MaxPooling2D(pool_size=(2, 2)))\n",
    "model3.add(Dropout(0.2))\n",
    "model3.add(Flatten())\n",
    "model3.add(Dense(64, activation='relu'))\n",
    "model3.add(Dense(6, activation='softmax'))"
   ]
  },
  {
   "cell_type": "code",
   "execution_count": 76,
   "id": "15c1c6a3",
   "metadata": {},
   "outputs": [],
   "source": [
    "# Compile model\n",
    "model3.compile(loss='categorical_crossentropy', optimizer='adam', metrics=['accuracy'])"
   ]
  },
  {
   "cell_type": "code",
   "execution_count": 78,
   "id": "82786c39",
   "metadata": {},
   "outputs": [
    {
     "name": "stdout",
     "output_type": "stream",
     "text": [
      "Epoch 1/60\n",
      "21/21 [==============================] - 4s 72ms/step - loss: 1.7984 - accuracy: 0.1769 - val_loss: 1.7723 - val_accuracy: 0.2778\n",
      "Epoch 2/60\n",
      "21/21 [==============================] - 1s 36ms/step - loss: 1.7682 - accuracy: 0.2688 - val_loss: 1.7382 - val_accuracy: 0.4667\n",
      "Epoch 3/60\n",
      "21/21 [==============================] - 1s 36ms/step - loss: 1.7307 - accuracy: 0.3919 - val_loss: 1.6613 - val_accuracy: 0.5111\n",
      "Epoch 4/60\n",
      "21/21 [==============================] - 1s 36ms/step - loss: 1.6372 - accuracy: 0.5219 - val_loss: 1.5260 - val_accuracy: 0.7444\n",
      "Epoch 5/60\n",
      "21/21 [==============================] - 1s 37ms/step - loss: 1.5347 - accuracy: 0.5572 - val_loss: 1.2873 - val_accuracy: 0.8667\n",
      "Epoch 6/60\n",
      "21/21 [==============================] - 1s 45ms/step - loss: 1.3040 - accuracy: 0.6775 - val_loss: 1.0133 - val_accuracy: 0.9333\n",
      "Epoch 7/60\n",
      "21/21 [==============================] - 1s 44ms/step - loss: 1.0556 - accuracy: 0.7388 - val_loss: 0.6738 - val_accuracy: 0.9444\n",
      "Epoch 8/60\n",
      "21/21 [==============================] - 1s 43ms/step - loss: 0.7917 - accuracy: 0.7870 - val_loss: 0.5125 - val_accuracy: 0.9111\n",
      "Epoch 9/60\n",
      "21/21 [==============================] - 1s 38ms/step - loss: 0.6252 - accuracy: 0.7938 - val_loss: 0.3730 - val_accuracy: 0.9444\n",
      "Epoch 10/60\n",
      "21/21 [==============================] - 1s 34ms/step - loss: 0.5411 - accuracy: 0.8092 - val_loss: 0.3160 - val_accuracy: 0.9222\n",
      "Epoch 11/60\n",
      "21/21 [==============================] - 1s 72ms/step - loss: 0.4121 - accuracy: 0.8571 - val_loss: 0.3045 - val_accuracy: 0.9444\n",
      "Epoch 12/60\n",
      "21/21 [==============================] - 1s 44ms/step - loss: 0.4863 - accuracy: 0.8605 - val_loss: 0.2547 - val_accuracy: 0.9556\n",
      "Epoch 13/60\n",
      "21/21 [==============================] - 1s 53ms/step - loss: 0.4449 - accuracy: 0.8388 - val_loss: 0.1967 - val_accuracy: 0.9778\n",
      "Epoch 14/60\n",
      "21/21 [==============================] - 1s 50ms/step - loss: 0.3009 - accuracy: 0.9379 - val_loss: 0.2441 - val_accuracy: 0.9111\n",
      "Epoch 15/60\n",
      "21/21 [==============================] - 1s 47ms/step - loss: 0.3524 - accuracy: 0.9055 - val_loss: 0.2045 - val_accuracy: 0.9444\n",
      "Epoch 16/60\n",
      "21/21 [==============================] - 1s 44ms/step - loss: 0.3346 - accuracy: 0.9030 - val_loss: 0.1753 - val_accuracy: 0.9556\n",
      "Epoch 17/60\n",
      "21/21 [==============================] - 1s 35ms/step - loss: 0.2423 - accuracy: 0.9252 - val_loss: 0.1826 - val_accuracy: 0.9444\n",
      "Epoch 18/60\n",
      "21/21 [==============================] - 1s 35ms/step - loss: 0.3113 - accuracy: 0.8782 - val_loss: 0.1401 - val_accuracy: 0.9556\n",
      "Epoch 19/60\n",
      "21/21 [==============================] - 1s 35ms/step - loss: 0.3183 - accuracy: 0.8610 - val_loss: 0.1456 - val_accuracy: 0.9556\n",
      "Epoch 20/60\n",
      "21/21 [==============================] - 1s 46ms/step - loss: 0.2519 - accuracy: 0.9315 - val_loss: 0.1274 - val_accuracy: 0.9667\n",
      "Epoch 21/60\n",
      "21/21 [==============================] - 1s 37ms/step - loss: 0.2943 - accuracy: 0.9136 - val_loss: 0.1574 - val_accuracy: 0.9333\n",
      "Epoch 22/60\n",
      "21/21 [==============================] - 1s 42ms/step - loss: 0.2688 - accuracy: 0.8989 - val_loss: 0.1309 - val_accuracy: 0.9778\n",
      "Epoch 23/60\n",
      "21/21 [==============================] - 1s 37ms/step - loss: 0.1531 - accuracy: 0.9673 - val_loss: 0.1515 - val_accuracy: 0.9556\n",
      "Epoch 24/60\n",
      "21/21 [==============================] - 1s 36ms/step - loss: 0.1874 - accuracy: 0.9488 - val_loss: 0.1579 - val_accuracy: 0.9556\n",
      "Epoch 25/60\n",
      "21/21 [==============================] - 1s 35ms/step - loss: 0.2248 - accuracy: 0.9264 - val_loss: 0.1303 - val_accuracy: 0.9556\n",
      "Epoch 26/60\n",
      "21/21 [==============================] - 1s 47ms/step - loss: 0.1639 - accuracy: 0.9497 - val_loss: 0.1366 - val_accuracy: 0.9444\n",
      "Epoch 27/60\n",
      "21/21 [==============================] - 1s 48ms/step - loss: 0.2169 - accuracy: 0.9537 - val_loss: 0.1250 - val_accuracy: 0.9556\n",
      "Epoch 28/60\n",
      "21/21 [==============================] - 1s 39ms/step - loss: 0.2001 - accuracy: 0.9300 - val_loss: 0.1551 - val_accuracy: 0.9333\n",
      "Epoch 29/60\n",
      "21/21 [==============================] - 1s 38ms/step - loss: 0.1981 - accuracy: 0.9172 - val_loss: 0.1069 - val_accuracy: 0.9556\n",
      "Epoch 30/60\n",
      "21/21 [==============================] - 1s 33ms/step - loss: 0.1708 - accuracy: 0.9491 - val_loss: 0.0930 - val_accuracy: 0.9778\n",
      "Epoch 31/60\n",
      "21/21 [==============================] - 1s 42ms/step - loss: 0.2464 - accuracy: 0.9658 - val_loss: 0.1316 - val_accuracy: 0.9556 0s - loss: 0.2489 - accuracy: 0.96\n",
      "Epoch 32/60\n",
      "21/21 [==============================] - 1s 38ms/step - loss: 0.1773 - accuracy: 0.9502 - val_loss: 0.1142 - val_accuracy: 0.9556\n",
      "Epoch 33/60\n",
      "21/21 [==============================] - 1s 36ms/step - loss: 0.1602 - accuracy: 0.9504 - val_loss: 0.1081 - val_accuracy: 0.9778\n",
      "Epoch 34/60\n",
      "21/21 [==============================] - 1s 34ms/step - loss: 0.2025 - accuracy: 0.9496 - val_loss: 0.0911 - val_accuracy: 0.9778\n",
      "Epoch 35/60\n",
      "21/21 [==============================] - 1s 42ms/step - loss: 0.1898 - accuracy: 0.9291 - val_loss: 0.1119 - val_accuracy: 0.9556\n",
      "Epoch 36/60\n",
      "21/21 [==============================] - 1s 43ms/step - loss: 0.1382 - accuracy: 0.9579 - val_loss: 0.0827 - val_accuracy: 0.9778\n",
      "Epoch 37/60\n",
      "21/21 [==============================] - 1s 41ms/step - loss: 0.1264 - accuracy: 0.9675 - val_loss: 0.0968 - val_accuracy: 0.9667\n",
      "Epoch 38/60\n",
      "21/21 [==============================] - 1s 47ms/step - loss: 0.1237 - accuracy: 0.9558 - val_loss: 0.0930 - val_accuracy: 0.9778\n",
      "Epoch 39/60\n",
      "21/21 [==============================] - 1s 39ms/step - loss: 0.2517 - accuracy: 0.9200 - val_loss: 0.0735 - val_accuracy: 0.9778\n",
      "Epoch 40/60\n",
      "21/21 [==============================] - 1s 35ms/step - loss: 0.1090 - accuracy: 0.9718 - val_loss: 0.0686 - val_accuracy: 0.9667\n",
      "Epoch 41/60\n",
      "21/21 [==============================] - 1s 31ms/step - loss: 0.0934 - accuracy: 0.9763 - val_loss: 0.1256 - val_accuracy: 0.9556\n",
      "Epoch 42/60\n",
      "21/21 [==============================] - 1s 41ms/step - loss: 0.0887 - accuracy: 0.9815 - val_loss: 0.0667 - val_accuracy: 0.9889\n",
      "Epoch 43/60\n",
      "21/21 [==============================] - 1s 48ms/step - loss: 0.1272 - accuracy: 0.9611 - val_loss: 0.0557 - val_accuracy: 0.9889\n",
      "Epoch 44/60\n",
      "21/21 [==============================] - 1s 46ms/step - loss: 0.1568 - accuracy: 0.9451 - val_loss: 0.0681 - val_accuracy: 0.9778\n",
      "Epoch 45/60\n",
      "21/21 [==============================] - 1s 34ms/step - loss: 0.1569 - accuracy: 0.9480 - val_loss: 0.0816 - val_accuracy: 0.9778\n",
      "Epoch 46/60\n",
      "21/21 [==============================] - 1s 43ms/step - loss: 0.1925 - accuracy: 0.9082 - val_loss: 0.0716 - val_accuracy: 0.9778\n",
      "Epoch 47/60\n",
      "21/21 [==============================] - 1s 46ms/step - loss: 0.1563 - accuracy: 0.9549 - val_loss: 0.1239 - val_accuracy: 0.9667\n",
      "Epoch 48/60\n",
      "21/21 [==============================] - 1s 39ms/step - loss: 0.0957 - accuracy: 0.9761 - val_loss: 0.1378 - val_accuracy: 0.9333\n",
      "Epoch 49/60\n",
      "21/21 [==============================] - 1s 34ms/step - loss: 0.1390 - accuracy: 0.9476 - val_loss: 0.1097 - val_accuracy: 0.9778\n",
      "Epoch 50/60\n",
      "21/21 [==============================] - 1s 39ms/step - loss: 0.0606 - accuracy: 0.9870 - val_loss: 0.0593 - val_accuracy: 0.9889\n",
      "Epoch 51/60\n",
      "21/21 [==============================] - 1s 38ms/step - loss: 0.1442 - accuracy: 0.9176 - val_loss: 0.0615 - val_accuracy: 0.9889\n",
      "Epoch 52/60\n",
      "21/21 [==============================] - 1s 36ms/step - loss: 0.1037 - accuracy: 0.9572 - val_loss: 0.0677 - val_accuracy: 0.9667\n",
      "Epoch 53/60\n",
      "21/21 [==============================] - 1s 37ms/step - loss: 0.1281 - accuracy: 0.9594 - val_loss: 0.0687 - val_accuracy: 0.9667\n",
      "Epoch 54/60\n",
      "21/21 [==============================] - 1s 37ms/step - loss: 0.0953 - accuracy: 0.9572 - val_loss: 0.0697 - val_accuracy: 0.9667\n",
      "Epoch 55/60\n",
      "21/21 [==============================] - 1s 35ms/step - loss: 0.0739 - accuracy: 0.9817 - val_loss: 0.0745 - val_accuracy: 0.9778\n",
      "Epoch 56/60\n",
      "21/21 [==============================] - 1s 34ms/step - loss: 0.0725 - accuracy: 0.9889 - val_loss: 0.1420 - val_accuracy: 0.9556\n",
      "Epoch 57/60\n",
      "21/21 [==============================] - 1s 39ms/step - loss: 0.1069 - accuracy: 0.9785 - val_loss: 0.1337 - val_accuracy: 0.9444\n",
      "Epoch 58/60\n",
      "21/21 [==============================] - 1s 36ms/step - loss: 0.0605 - accuracy: 0.9860 - val_loss: 0.0765 - val_accuracy: 0.9778\n",
      "Epoch 59/60\n",
      "21/21 [==============================] - 1s 35ms/step - loss: 0.0537 - accuracy: 0.9922 - val_loss: 0.0598 - val_accuracy: 0.9778\n",
      "Epoch 60/60\n",
      "21/21 [==============================] - 1s 45ms/step - loss: 0.0694 - accuracy: 0.9751 - val_loss: 0.0763 - val_accuracy: 0.9778\n"
     ]
    }
   ],
   "source": [
    "M3=model3.fit(train_set,validation_data=valid_set, epochs=60,shuffle=True,verbose=1)"
   ]
  },
  {
   "cell_type": "code",
   "execution_count": 79,
   "id": "b3dab20b",
   "metadata": {},
   "outputs": [
    {
     "data": {
      "image/png": "[encoded data removed]",
      "text/plain": [
       "<Figure size 1080x360 with 2 Axes>"
      ]
     },
     "metadata": {
      "needs_background": "light"
     },
     "output_type": "display_data"
    }
   ],
   "source": [
    "plot_performance(M3)"
   ]
  },
  {
   "cell_type": "markdown",
   "id": "27f14998",
   "metadata": {},
   "source": [
    "#### Interpretation :\n",
    "\n",
    "This is our best Model handles overfitting and fetches a reasonably low loss, when comparing train and Validation."
   ]
  },
  {
   "cell_type": "markdown",
   "id": "7c77146b",
   "metadata": {},
   "source": [
    "<a id=\"savewtg\"></a>\n",
    "# 4. Saving the Weights"
   ]
  },
  {
   "cell_type": "code",
   "execution_count": 82,
   "id": "92f3fdf1",
   "metadata": {},
   "outputs": [],
   "source": [
    "model_json = model3.to_json()\n",
    "with open(\"model_final.json\", \"w\") as json_file:\n",
    "    json_file.write(model_json)\n",
    "# serialize weights to HDF5\n",
    "model3.save_weights(\"model3_final.h5\")"
   ]
  },
  {
   "cell_type": "markdown",
   "id": "46a8f0e9",
   "metadata": {},
   "source": [
    "<a id=\"soleq\"></a>\n",
    "# 5. Solving HandWritten Equations"
   ]
  },
  {
   "cell_type": "code",
   "execution_count": 84,
   "id": "77a716c6",
   "metadata": {},
   "outputs": [],
   "source": [
    "def prediction(img):\n",
    "    #plt.imshow(img, cmap = 'gray')\n",
    "    img = cv2.resize(img,(28, 28))\n",
    "    #norm_image = cv2.normalize(img, None, alpha = 0, beta = 1, norm_type = cv2.NORM_MINMAX, dtype = cv2.CV_32F)\n",
    "    norm_image=img/255.0\n",
    "    norm_image = norm_image.reshape((norm_image.shape[0], norm_image.shape[1], 1))\n",
    "    case = np.asarray([norm_image])\n",
    "    pred = model3.predict_classes([case])\n",
    "    \n",
    "    return ([i for i in train_set.class_indices if train_set.class_indices[i]==(pred[0])][0],pred)"
   ]
  },
  {
   "cell_type": "markdown",
   "id": "00d9c252",
   "metadata": {},
   "source": [
    "<a id=\"label\"></a>\n",
    "# 6. Creating Label Maps for the Classes"
   ]
  },
  {
   "cell_type": "code",
   "execution_count": 86,
   "id": "18a5c897",
   "metadata": {},
   "outputs": [
    {
     "data": {
      "text/plain": [
       "{'+': 0, '1': 1, '2': 2, '3': 3, '4': 4, 'x': 5}"
      ]
     },
     "execution_count": 86,
     "metadata": {},
     "output_type": "execute_result"
    }
   ],
   "source": [
    "train_set.class_indices"
   ]
  },
  {
   "cell_type": "code",
   "execution_count": 87,
   "id": "80e6fee6",
   "metadata": {},
   "outputs": [
    {
     "data": {
      "text/plain": [
       "{'+': 0, '1': 1, '2': 2, '3': 3, '4': 4, 'x': 5}"
      ]
     },
     "execution_count": 87,
     "metadata": {},
     "output_type": "execute_result"
    }
   ],
   "source": [
    "label_map = (train_set.class_indices)\n",
    "label_map"
   ]
  },
  {
   "cell_type": "code",
   "execution_count": 88,
   "id": "44ead262",
   "metadata": {},
   "outputs": [],
   "source": [
    "def image_path(path):\n",
    "    image=cv2.imread(path)\n",
    "    gray = cv2.cvtColor(image, cv2.COLOR_BGR2GRAY)\n",
    "    blurred = cv2.GaussianBlur(image, (5, 5), 0)\n",
    "# perform edge detection, find contours in the edge map, and sort the\n",
    "# resulting contours from left-to-right\n",
    "    edged = cv2.Canny(blurred, 30, 150)\n",
    "    cnts = cv2.findContours(edged.copy(), cv2.RETR_EXTERNAL,cv2.CHAIN_APPROX_SIMPLE)\n",
    "    cnts = imutils.grab_contours(cnts)\n",
    "    cnts = sort_contours(cnts, method=\"left-to-right\")[0]\n",
    "    chars=[]\n",
    "    for c in cnts:\n",
    "    # compute the bounding box of the contour\n",
    "        (x, y, w, h) = cv2.boundingRect(c)\n",
    "    # filter out bounding boxes, ensuring they are neither too small\n",
    "    # nor too large\n",
    "        if w*h>1200:\n",
    "        # extract the character and threshold it to make the character\n",
    "        # appear as *white* (foreground) on a *black* background, then\n",
    "        # grab the width and height of the thresholded image\n",
    "            roi = gray[y:y + h, x:x + w]\n",
    "            chars.append(prediction(roi))\n",
    "            cv2.rectangle(image, (x, y), (x + w, y + h), (0, 255, 0), 2)\n",
    "    return chars,image"
   ]
  },
  {
   "cell_type": "markdown",
   "id": "0af8797d",
   "metadata": {},
   "source": [
    "<a id=\"modeleval\"></a>\n",
    "# 7 Model Evaluation"
   ]
  },
  {
   "cell_type": "markdown",
   "id": "173db72c",
   "metadata": {},
   "source": [
    "<a id=\"test1\"></a>\n",
    "### 7.1 TEST CASE 1"
   ]
  },
  {
   "cell_type": "code",
   "execution_count": 90,
   "id": "e2bc2a46",
   "metadata": {},
   "outputs": [],
   "source": [
    "path='C:\\\\Users\\\\DELL\\\\Deep Learning\\\\Final Project\\\\6classes\\\\test1.jpeg'\n",
    "chars,image=image_path(path)"
   ]
  },
  {
   "cell_type": "code",
   "execution_count": 91,
   "id": "339a72e0",
   "metadata": {},
   "outputs": [
    {
     "data": {
      "text/plain": [
       "[('2', array([2], dtype=int64)),\n",
       " ('3', array([3], dtype=int64)),\n",
       " ('+', array([0], dtype=int64)),\n",
       " ('2', array([2], dtype=int64))]"
      ]
     },
     "execution_count": 91,
     "metadata": {},
     "output_type": "execute_result"
    }
   ],
   "source": [
    "chars"
   ]
  },
  {
   "cell_type": "code",
   "execution_count": 92,
   "id": "c596759d",
   "metadata": {},
   "outputs": [
    {
     "data": {
      "text/plain": [
       "<matplotlib.image.AxesImage at 0x224bc77b6d8>"
      ]
     },
     "execution_count": 92,
     "metadata": {},
     "output_type": "execute_result"
    },
    {
     "data": {
      "image/png": "[encoded data removed]",
      "text/plain": [
       "<Figure size 360x360 with 1 Axes>"
      ]
     },
     "metadata": {
      "needs_background": "light"
     },
     "output_type": "display_data"
    }
   ],
   "source": [
    "plt.figure(figsize=(5,5))\n",
    "plt.imshow(image)"
   ]
  },
  {
   "cell_type": "code",
   "execution_count": 93,
   "id": "95ca32e4",
   "metadata": {},
   "outputs": [],
   "source": [
    "def NumericalSolver(characters):\n",
    "        c=[]\n",
    "        \n",
    "        for i in characters:\n",
    "            if i[0][:]=='x':\n",
    "                pos = i[0][:].replace(\"x\",\"*\")\n",
    "                c.append(pos)\n",
    "            else:\n",
    "                c.append(i[0][:])\n",
    "\n",
    "        EQUATION=' '\n",
    "        for i in c:\n",
    "            EQUATION=EQUATION + (i[0][0])\n",
    "        print('The Handwritten equation is :',EQUATION)\n",
    "        print('The result is : ',eval(EQUATION))"
   ]
  },
  {
   "cell_type": "code",
   "execution_count": 94,
   "id": "d2c2653d",
   "metadata": {},
   "outputs": [
    {
     "name": "stdout",
     "output_type": "stream",
     "text": [
      "The Handwritten equation is :  23+2\n",
      "The result is :  25\n"
     ]
    }
   ],
   "source": [
    "NumericalSolver(chars)"
   ]
  },
  {
   "cell_type": "markdown",
   "id": "d93cd712",
   "metadata": {},
   "source": [
    "<a id=\"test2\"></a>\n",
    "### 7.2 TEST CASE 2"
   ]
  },
  {
   "cell_type": "code",
   "execution_count": 96,
   "id": "81f6c5ea",
   "metadata": {},
   "outputs": [],
   "source": [
    "path='C:\\\\Users\\\\DELL\\\\Deep Learning\\\\Final Project\\\\6classes\\\\test2.jpeg'\n",
    "chars,image=image_path(path)"
   ]
  },
  {
   "cell_type": "code",
   "execution_count": 97,
   "id": "8416fe73",
   "metadata": {},
   "outputs": [
    {
     "data": {
      "text/plain": [
       "[('1', array([1], dtype=int64)),\n",
       " ('2', array([2], dtype=int64)),\n",
       " ('x', array([5], dtype=int64)),\n",
       " ('3', array([3], dtype=int64))]"
      ]
     },
     "execution_count": 97,
     "metadata": {},
     "output_type": "execute_result"
    }
   ],
   "source": [
    "chars"
   ]
  },
  {
   "cell_type": "code",
   "execution_count": 98,
   "id": "02f68cee",
   "metadata": {},
   "outputs": [
    {
     "data": {
      "text/plain": [
       "<matplotlib.image.AxesImage at 0x224bc524b70>"
      ]
     },
     "execution_count": 98,
     "metadata": {},
     "output_type": "execute_result"
    },
    {
     "data": {
      "image/png": "[encoded data removed]",
      "text/plain": [
       "<Figure size 360x360 with 1 Axes>"
      ]
     },
     "metadata": {
      "needs_background": "light"
     },
     "output_type": "display_data"
    }
   ],
   "source": [
    "plt.figure(figsize=(5,5))\n",
    "plt.imshow(image)"
   ]
  },
  {
   "cell_type": "code",
   "execution_count": 99,
   "id": "14675720",
   "metadata": {},
   "outputs": [
    {
     "name": "stdout",
     "output_type": "stream",
     "text": [
      "The Handwritten equation is :  12*3\n",
      "The result is :  36\n"
     ]
    }
   ],
   "source": [
    "NumericalSolver(chars)"
   ]
  },
  {
   "cell_type": "markdown",
   "id": "491cb99b",
   "metadata": {},
   "source": [
    "<a id=\"test3\"></a>\n",
    "### 7.3 TEST CASE 3"
   ]
  },
  {
   "cell_type": "code",
   "execution_count": 100,
   "id": "6e36f689",
   "metadata": {},
   "outputs": [],
   "source": [
    "path='C:\\\\Users\\\\DELL\\\\Deep Learning\\\\Final Project\\\\6classes\\\\test3.jpeg'\n",
    "chars,image=image_path(path)"
   ]
  },
  {
   "cell_type": "code",
   "execution_count": 101,
   "id": "9c4cef75",
   "metadata": {},
   "outputs": [
    {
     "data": {
      "text/plain": [
       "[('4', array([4], dtype=int64)),\n",
       " ('3', array([3], dtype=int64)),\n",
       " ('+', array([0], dtype=int64)),\n",
       " ('2', array([2], dtype=int64)),\n",
       " ('1', array([1], dtype=int64))]"
      ]
     },
     "execution_count": 101,
     "metadata": {},
     "output_type": "execute_result"
    }
   ],
   "source": [
    "chars"
   ]
  },
  {
   "cell_type": "code",
   "execution_count": 102,
   "id": "ef8cdcbf",
   "metadata": {},
   "outputs": [
    {
     "data": {
      "text/plain": [
       "<matplotlib.image.AxesImage at 0x224bc3e6048>"
      ]
     },
     "execution_count": 102,
     "metadata": {},
     "output_type": "execute_result"
    },
    {
     "data": {
      "image/png": "[encoded data removed]",
      "text/plain": [
       "<Figure size 360x360 with 1 Axes>"
      ]
     },
     "metadata": {
      "needs_background": "light"
     },
     "output_type": "display_data"
    }
   ],
   "source": [
    "plt.figure(figsize=(5,5))\n",
    "plt.imshow(image)"
   ]
  },
  {
   "cell_type": "code",
   "execution_count": 103,
   "id": "caaa26ea",
   "metadata": {},
   "outputs": [
    {
     "name": "stdout",
     "output_type": "stream",
     "text": [
      "The Handwritten equation is :  43+21\n",
      "The result is :  64\n"
     ]
    }
   ],
   "source": [
    "NumericalSolver(chars)"
   ]
  },
  {
   "cell_type": "markdown",
   "id": "4cca72b1",
   "metadata": {},
   "source": [
    "<a id=\"conclusion\"></a>\n",
    "# 8. CONCLUSION"
   ]
  },
  {
   "cell_type": "code",
   "execution_count": null,
   "id": "93fc3d0f",
   "metadata": {},
   "outputs": [],
   "source": []
  },
  {
   "cell_type": "code",
   "execution_count": null,
   "id": "efb1b7bb",
   "metadata": {},
   "outputs": [],
   "source": []
  },
  {
   "cell_type": "code",
   "execution_count": null,
   "id": "1409dda1",
   "metadata": {},
   "outputs": [],
   "source": []
  },
  {
   "cell_type": "code",
   "execution_count": null,
   "id": "687f2f24",
   "metadata": {},
   "outputs": [],
   "source": []
  }
 ],
 "metadata": {
  "kernelspec": {
   "display_name": "Python 3",
   "language": "python",
   "name": "python3"
  },
  "language_info": {
   "codemirror_mode": {
    "name": "ipython",
    "version": 3
   },
   "file_extension": ".py",
   "mimetype": "text/x-python",
   "name": "python",
   "nbconvert_exporter": "python",
   "pygments_lexer": "ipython3",
   "version": "3.6.13"
  }
 },
 "nbformat": 4,
 "nbformat_minor": 5
}
