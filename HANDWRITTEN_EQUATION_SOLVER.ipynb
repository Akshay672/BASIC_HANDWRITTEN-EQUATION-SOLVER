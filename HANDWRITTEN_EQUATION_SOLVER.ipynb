{
 "cells": [
  {
   "cell_type": "markdown",
   "id": "05687df2",
   "metadata": {},
   "source": [
    "<center><font size=\"5\"><b>HANDWRITTEN EQUATION SOLVER</b></font> </center>"
   ]
  },
  {
   "cell_type": "markdown",
   "id": "cc39d54a",
   "metadata": {},
   "source": [
    "<img src=\"HandwrittenImage.jpg\" width=\"750\" align=\"center\">"
   ]
  },
  {
   "cell_type": "markdown",
   "id": "01420403",
   "metadata": {},
   "source": [
    "## Introduction\n",
    "\n",
    "Handwriting is an integral feature of human communications. In addition to smartphones and tablets, new devices such as interactive panels, digital pens, and smart writing surfaces have become widely adopted in offices and educational institutions, opening up new opportunities for technologies that recognise specific handwritten content such as mathematics and diagrams. \n",
    "\n",
    "The advancements in the field of Computer Vision and Natural Language Processing have fostered robust Human Computer Interaction. Computers are being familiarized with the irregularities of the real world. This facilitates humans to use the computing power to perform otherwise time-consuming tasks and solve complex real-world problems. One such application is in the field of mathematics, that is, to solve handwritten mathematical equations.\n",
    "\n",
    "Solving mathematical equations is an integral part of science right from basic schooling to major research applications. The computing power of today can give a great boost to solving mathematical equations at all levels. Given the level of complexity a mathematical equation can reach, it is simpler and faster to write it by hand than type it on a computer. A machine learning enabled handwritten equation solver can be a very important tool to simplify calculations. "
   ]
  },
  {
   "cell_type": "markdown",
   "id": "61b9efbc",
   "metadata": {},
   "source": [
    "## AIM OF THE PROJECT\n",
    "\n",
    "The aim of this project is to build a deep learning model that can recognise handwritten numbers and mathematical symbols, read it as an equation and evaluate it to give the solution."
   ]
  },
  {
   "cell_type": "markdown",
   "id": "c6ae6c0e",
   "metadata": {},
   "source": [
    "  ## Table of Content\n",
    "\n",
    "1. **[Import Libraries](#lib)**\n",
    "\n",
    "\n",
    "2. **[Data Processing](#prep)**\n",
    "\n",
    "      2.1 - **[Image DataGenerator](#datagen)**   \n",
    "      \n",
    "      2.2 - **[Creating Train Set](#cts)**\n",
    "      \n",
    "      2.2 - **[Creating Validation Set](#cvs)**\n",
    "      \n",
    "      \n",
    "      \n",
    "3. **[Model Building](#mod)**\n",
    "\n",
    "      3.1 - **[MODEL 1](#mod1)**   \n",
    "      \n",
    "      3.2 - **[MODEL 2](#mod2)**\n",
    "      \n",
    "      3.2 - **[MODEL 3](#mod3)**\n",
    "      \n",
    "\n",
    "4. **[Saving the Weights](#savewtg)**\n",
    "\n",
    "\n",
    "5. **[Solving HandWritten Equations](#soleq)**\n",
    "\n",
    "\n",
    "6. **[Creating Label Maps for the Classes](#label)**   \n",
    "\n",
    "           \n",
    "7. **[Model Evaluation](#modeleval)**\n",
    "\n",
    "      7.1 - **[TEST CASE 1](#test1)**\n",
    "      \n",
    "      7.2 - **[TEST CASE 2](#test2)**\n",
    "      \n",
    "      7.3 - **[TEST CASE 3](#test3)**\n",
    "      \n",
    "                     \n",
    "8. **[Conclusions](#conclusion)**\n"
   ]
  },
  {
   "cell_type": "markdown",
   "id": "94c1645e",
   "metadata": {},
   "source": [
    "<a id=\"lib\"></a>\n",
    "## 1. Importing Libraries"
   ]
  },
  {
   "cell_type": "code",
   "execution_count": 1,
   "id": "426b4487",
   "metadata": {},
   "outputs": [],
   "source": [
    "import numpy as np\n",
    "import pandas as pd \n",
    "import cv2\n",
    "import tensorflow as tf\n",
    "import matplotlib.pyplot as plt\n",
    "from imutils.contours import sort_contours\n",
    "import imutils\n",
    "from keras import optimizers\n",
    "from keras.layers import Input, Dense\n",
    "from keras.models import Sequential\n",
    "from keras.layers import Conv2D\n",
    "from keras.layers import MaxPooling2D\n",
    "from keras.layers import Dense\n",
    "from keras.layers import Flatten\n",
    "from keras.layers import Dropout,BatchNormalization\n",
    "from keras.preprocessing.image import ImageDataGenerator\n",
    "import os\n",
    "import warnings\n",
    "warnings.filterwarnings('ignore')\n",
    "import random\n",
    "random.seed(123)"
   ]
  },
  {
   "cell_type": "markdown",
   "id": "4184058d",
   "metadata": {},
   "source": [
    "<a id=\"prep\"></a>\n",
    "# 2. Data Processing"
   ]
  },
  {
   "cell_type": "markdown",
   "id": "869410e0",
   "metadata": {},
   "source": [
    "<a id=\"datagen\"></a>\n",
    "### 2.1 ImageDataGenerator"
   ]
  },
  {
   "cell_type": "code",
   "execution_count": 5,
   "id": "d19fec1b",
   "metadata": {},
   "outputs": [],
   "source": [
    "train_datagen = ImageDataGenerator(\n",
    "    rescale = 1./255,#If None or 0, no rescaling is applied.\n",
    "    shear_range = 0.2,  #Float. Shear Intensity (Shear angle in counter-clockwise direction in degrees)\n",
    "    zoom_range = 0.2,  # Float or [lower, upper]. Range for random zoom. \n",
    "    validation_split = 0.30 \n",
    ")"
   ]
  },
  {
   "cell_type": "code",
   "execution_count": 6,
   "id": "b8c33999",
   "metadata": {},
   "outputs": [],
   "source": [
    "#path of the data\n",
    "data_path='D:\\\\M. Tech in Data Science & Machine Learning\\\\Deep Learning\\\\Project\\\\Handwritten-Equation-Solver\\\\6classes\\\\'"
   ]
  },
  {
   "cell_type": "markdown",
   "id": "58e4b7a4",
   "metadata": {},
   "source": [
    "<a id=\"cvt\"></a>\n",
    "### 2.2 Creating Train Set"
   ]
  },
  {
   "cell_type": "code",
   "execution_count": 7,
   "id": "a26a0fa8",
   "metadata": {},
   "outputs": [
    {
     "name": "stdout",
     "output_type": "stream",
     "text": [
      "Found 210 images belonging to 6 classes.\n"
     ]
    }
   ],
   "source": [
    "train_set = train_datagen.flow_from_directory(\n",
    "    data_path, #path of the data\n",
    "    target_size = (28, 28), #The dimensions to which all images found will be resized.\n",
    "    color_mode = 'grayscale',#Whether the images will be converted to have 1 or 3 color channels.\n",
    "    batch_size = 10,#size of the batches of data (default: 32).\n",
    "    class_mode = 'categorical',#- \"categorical\": 2D numpy array of one-hot encoded labels. Supports multi-label output. -\n",
    "    shuffle = True,#whether to shuffle the data (default: True)\n",
    "    subset='training',#Subset of data (\"training\" or \"validation\")\n",
    "    seed = 123\n",
    ")"
   ]
  },
  {
   "cell_type": "markdown",
   "id": "f015167c",
   "metadata": {},
   "source": [
    "#### Interpretation : \n",
    "\n",
    "The Train Set consists of 210 Images out of 300 Images"
   ]
  },
  {
   "cell_type": "markdown",
   "id": "a9fd46fd",
   "metadata": {},
   "source": [
    "<a id=\"cvs\"></a>\n",
    "### 2.3 Creating Validation Set"
   ]
  },
  {
   "cell_type": "code",
   "execution_count": 8,
   "id": "43e13bd1",
   "metadata": {},
   "outputs": [
    {
     "name": "stdout",
     "output_type": "stream",
     "text": [
      "Found 90 images belonging to 6 classes.\n"
     ]
    }
   ],
   "source": [
    "valid_set = train_datagen.flow_from_directory(\n",
    "    data_path, #path of the data\n",
    "    target_size = (28, 28), #The dimensions to which all images found will be resized.\n",
    "    color_mode = 'grayscale',#Whether the images will be converted to have 1 or 3 color channels.\n",
    "    batch_size = 10,#size of the batches of data (default: 32).\n",
    "    class_mode = 'categorical',##- \"categorical\": 2D numpy array of one-hot encoded labels. Supports multi-label output. -\n",
    "    shuffle = True,#whether to shuffle the data (default: True)\n",
    "    subset='validation',#Subset of data (\"training\" or \"validation\")\n",
    "    seed = 123\n",
    ")"
   ]
  },
  {
   "cell_type": "markdown",
   "id": "c0287f39",
   "metadata": {},
   "source": [
    "#### Interpretation : \n",
    "\n",
    "The Validation Set consists of 90 Images out of 300 Images"
   ]
  },
  {
   "cell_type": "markdown",
   "id": "f2585f07",
   "metadata": {},
   "source": [
    "<a id=\"mod\"></a>\n",
    "# 3. Model Building"
   ]
  },
  {
   "cell_type": "markdown",
   "id": "f17fb726",
   "metadata": {},
   "source": [
    "<a id=\"mod1\"></a>\n",
    "### 3.1 MODEL 1"
   ]
  },
  {
   "cell_type": "code",
   "execution_count": 9,
   "id": "e67d759b",
   "metadata": {},
   "outputs": [],
   "source": [
    "model1 = Sequential()\n",
    "model1.add(Conv2D(30, (5, 5), input_shape=(28, 28, 1), activation='relu'))\n",
    "model1.add(MaxPooling2D(pool_size=(2, 2)))\n",
    "model1.add(Conv2D(10, (3, 3), activation='relu'))\n",
    "model1.add(MaxPooling2D(pool_size=(2, 2)))\n",
    "model1.add(Conv2D(5, (3, 3), activation='relu'))\n",
    "model1.add(MaxPooling2D(pool_size=(2, 2)))\n",
    "model1.add(Dropout(0.1))\n",
    "model1.add(Flatten())\n",
    "model1.add(Dense(128, activation='relu'))\n",
    "model1.add(Dense(64, activation='relu'))\n",
    "model1.add(Dense(6, activation='softmax'))"
   ]
  },
  {
   "cell_type": "code",
   "execution_count": 10,
   "id": "b006e920",
   "metadata": {},
   "outputs": [],
   "source": [
    "# Compile model\n",
    "model1.compile(loss='categorical_crossentropy', optimizer='adam', metrics=['accuracy'])"
   ]
  },
  {
   "cell_type": "code",
   "execution_count": 11,
   "id": "ea1130e2",
   "metadata": {},
   "outputs": [
    {
     "name": "stdout",
     "output_type": "stream",
     "text": [
      "Epoch 1/60\n",
      "21/21 [==============================] - 60s 133ms/step - loss: 1.7936 - accuracy: 0.1595 - val_loss: 1.7852 - val_accuracy: 0.2889\n",
      "Epoch 2/60\n",
      "21/21 [==============================] - 1s 40ms/step - loss: 1.7830 - accuracy: 0.2067 - val_loss: 1.7708 - val_accuracy: 0.1778\n",
      "Epoch 3/60\n",
      "21/21 [==============================] - 1s 40ms/step - loss: 1.7739 - accuracy: 0.2838 - val_loss: 1.7690 - val_accuracy: 0.1667\n",
      "Epoch 4/60\n",
      "21/21 [==============================] - 1s 42ms/step - loss: 1.7472 - accuracy: 0.2341 - val_loss: 1.6989 - val_accuracy: 0.3222\n",
      "Epoch 5/60\n",
      "21/21 [==============================] - 1s 40ms/step - loss: 1.6771 - accuracy: 0.2829 - val_loss: 1.5732 - val_accuracy: 0.4222\n",
      "Epoch 6/60\n",
      "21/21 [==============================] - 1s 50ms/step - loss: 1.5460 - accuracy: 0.4560 - val_loss: 1.3832 - val_accuracy: 0.4889\n",
      "Epoch 7/60\n",
      "21/21 [==============================] - 1s 47ms/step - loss: 1.4129 - accuracy: 0.4089 - val_loss: 1.2823 - val_accuracy: 0.4556\n",
      "Epoch 8/60\n",
      "21/21 [==============================] - 1s 45ms/step - loss: 1.4478 - accuracy: 0.3874 - val_loss: 1.1674 - val_accuracy: 0.6111\n",
      "Epoch 9/60\n",
      "21/21 [==============================] - 1s 48ms/step - loss: 1.2916 - accuracy: 0.5037 - val_loss: 1.0363 - val_accuracy: 0.6667\n",
      "Epoch 10/60\n",
      "21/21 [==============================] - 1s 45ms/step - loss: 1.1655 - accuracy: 0.5758 - val_loss: 1.0329 - val_accuracy: 0.6333\n",
      "Epoch 11/60\n",
      "21/21 [==============================] - 1s 45ms/step - loss: 1.0746 - accuracy: 0.5980 - val_loss: 1.0011 - val_accuracy: 0.6556\n",
      "Epoch 12/60\n",
      "21/21 [==============================] - 1s 42ms/step - loss: 1.0296 - accuracy: 0.6233 - val_loss: 0.9053 - val_accuracy: 0.6444\n",
      "Epoch 13/60\n",
      "21/21 [==============================] - 1s 45ms/step - loss: 1.0304 - accuracy: 0.5889 - val_loss: 0.8648 - val_accuracy: 0.6889\n",
      "Epoch 14/60\n",
      "21/21 [==============================] - 1s 49ms/step - loss: 1.0255 - accuracy: 0.5307 - val_loss: 0.7572 - val_accuracy: 0.7444\n",
      "Epoch 15/60\n",
      "21/21 [==============================] - 1s 42ms/step - loss: 0.9684 - accuracy: 0.5974 - val_loss: 0.7641 - val_accuracy: 0.7222\n",
      "Epoch 16/60\n",
      "21/21 [==============================] - 1s 41ms/step - loss: 0.9090 - accuracy: 0.6095 - val_loss: 0.7986 - val_accuracy: 0.6444\n",
      "Epoch 17/60\n",
      "21/21 [==============================] - 1s 43ms/step - loss: 0.9044 - accuracy: 0.6481 - val_loss: 0.7962 - val_accuracy: 0.7111\n",
      "Epoch 18/60\n",
      "21/21 [==============================] - 1s 39ms/step - loss: 0.8165 - accuracy: 0.6937 - val_loss: 0.7352 - val_accuracy: 0.7111\n",
      "Epoch 19/60\n",
      "21/21 [==============================] - 1s 38ms/step - loss: 0.8678 - accuracy: 0.6225 - val_loss: 0.7738 - val_accuracy: 0.6667\n",
      "Epoch 20/60\n",
      "21/21 [==============================] - 1s 40ms/step - loss: 0.9482 - accuracy: 0.6368 - val_loss: 0.7064 - val_accuracy: 0.7333\n",
      "Epoch 21/60\n",
      "21/21 [==============================] - 1s 39ms/step - loss: 0.8026 - accuracy: 0.6632 - val_loss: 0.6263 - val_accuracy: 0.7667\n",
      "Epoch 22/60\n",
      "21/21 [==============================] - 1s 43ms/step - loss: 0.7267 - accuracy: 0.6420 - val_loss: 0.6154 - val_accuracy: 0.7667\n",
      "Epoch 23/60\n",
      "21/21 [==============================] - 1s 45ms/step - loss: 0.7427 - accuracy: 0.7374 - val_loss: 0.6296 - val_accuracy: 0.7667\n",
      "Epoch 24/60\n",
      "21/21 [==============================] - 1s 41ms/step - loss: 0.7005 - accuracy: 0.7031 - val_loss: 0.6046 - val_accuracy: 0.8333\n",
      "Epoch 25/60\n",
      "21/21 [==============================] - 1s 41ms/step - loss: 0.6866 - accuracy: 0.6891 - val_loss: 0.6697 - val_accuracy: 0.7111\n",
      "Epoch 26/60\n",
      "21/21 [==============================] - 1s 53ms/step - loss: 0.6646 - accuracy: 0.6878 - val_loss: 0.5543 - val_accuracy: 0.8000\n",
      "Epoch 27/60\n",
      "21/21 [==============================] - 1s 41ms/step - loss: 0.6978 - accuracy: 0.7223 - val_loss: 0.5587 - val_accuracy: 0.8111\n",
      "Epoch 28/60\n",
      "21/21 [==============================] - 1s 38ms/step - loss: 0.6463 - accuracy: 0.7429 - val_loss: 0.5432 - val_accuracy: 0.8111\n",
      "Epoch 29/60\n",
      "21/21 [==============================] - 1s 41ms/step - loss: 0.7238 - accuracy: 0.7218 - val_loss: 0.5554 - val_accuracy: 0.7778\n",
      "Epoch 30/60\n",
      "21/21 [==============================] - 1s 65ms/step - loss: 0.7219 - accuracy: 0.7402 - val_loss: 0.5068 - val_accuracy: 0.8667\n",
      "Epoch 31/60\n",
      "21/21 [==============================] - 1s 41ms/step - loss: 0.6848 - accuracy: 0.7997 - val_loss: 0.5355 - val_accuracy: 0.8222\n",
      "Epoch 32/60\n",
      "21/21 [==============================] - 1s 40ms/step - loss: 0.6146 - accuracy: 0.7782 - val_loss: 0.4974 - val_accuracy: 0.8444\n",
      "Epoch 33/60\n",
      "21/21 [==============================] - 1s 40ms/step - loss: 0.5638 - accuracy: 0.7778 - val_loss: 0.4565 - val_accuracy: 0.8333\n",
      "Epoch 34/60\n",
      "21/21 [==============================] - 1s 40ms/step - loss: 0.5352 - accuracy: 0.8012 - val_loss: 0.4651 - val_accuracy: 0.8667\n",
      "Epoch 35/60\n",
      "21/21 [==============================] - 1s 39ms/step - loss: 0.5509 - accuracy: 0.7461 - val_loss: 0.5333 - val_accuracy: 0.8111\n",
      "Epoch 36/60\n",
      "21/21 [==============================] - 1s 39ms/step - loss: 0.4322 - accuracy: 0.8358 - val_loss: 0.4555 - val_accuracy: 0.8444\n",
      "Epoch 37/60\n",
      "21/21 [==============================] - 1s 37ms/step - loss: 0.5836 - accuracy: 0.7985 - val_loss: 0.4648 - val_accuracy: 0.8111\n",
      "Epoch 38/60\n",
      "21/21 [==============================] - 1s 38ms/step - loss: 0.4830 - accuracy: 0.8449 - val_loss: 0.4226 - val_accuracy: 0.8222\n",
      "Epoch 39/60\n",
      "21/21 [==============================] - 1s 37ms/step - loss: 0.5115 - accuracy: 0.7744 - val_loss: 0.4241 - val_accuracy: 0.8222\n",
      "Epoch 40/60\n",
      "21/21 [==============================] - 1s 39ms/step - loss: 0.4103 - accuracy: 0.8682 - val_loss: 0.4287 - val_accuracy: 0.8222\n",
      "Epoch 41/60\n",
      "21/21 [==============================] - 1s 39ms/step - loss: 0.4532 - accuracy: 0.8565 - val_loss: 0.4576 - val_accuracy: 0.8222\n",
      "Epoch 42/60\n",
      "21/21 [==============================] - 1s 40ms/step - loss: 0.5172 - accuracy: 0.8304 - val_loss: 0.4910 - val_accuracy: 0.8000\n",
      "Epoch 43/60\n",
      "21/21 [==============================] - 1s 39ms/step - loss: 0.4554 - accuracy: 0.8263 - val_loss: 0.3364 - val_accuracy: 0.8778\n",
      "Epoch 44/60\n",
      "21/21 [==============================] - 1s 37ms/step - loss: 0.4657 - accuracy: 0.7908 - val_loss: 0.3759 - val_accuracy: 0.9000\n",
      "Epoch 45/60\n",
      "21/21 [==============================] - 1s 36ms/step - loss: 0.3943 - accuracy: 0.8836 - val_loss: 0.4597 - val_accuracy: 0.8222\n",
      "Epoch 46/60\n",
      "21/21 [==============================] - 1s 37ms/step - loss: 0.4270 - accuracy: 0.8522 - val_loss: 0.3592 - val_accuracy: 0.8667\n",
      "Epoch 47/60\n",
      "21/21 [==============================] - 1s 37ms/step - loss: 0.4807 - accuracy: 0.8183 - val_loss: 0.4280 - val_accuracy: 0.8333\n",
      "Epoch 48/60\n",
      "21/21 [==============================] - 1s 38ms/step - loss: 0.3224 - accuracy: 0.9335 - val_loss: 0.4133 - val_accuracy: 0.8667 0s - loss: 0.2848 - accuracy\n",
      "Epoch 49/60\n",
      "21/21 [==============================] - 1s 37ms/step - loss: 0.4693 - accuracy: 0.8331 - val_loss: 0.4006 - val_accuracy: 0.8444\n",
      "Epoch 50/60\n",
      "21/21 [==============================] - 1s 38ms/step - loss: 0.4465 - accuracy: 0.8432 - val_loss: 0.3660 - val_accuracy: 0.8778\n",
      "Epoch 51/60\n",
      "21/21 [==============================] - 1s 56ms/step - loss: 0.3847 - accuracy: 0.8674 - val_loss: 0.4711 - val_accuracy: 0.8333\n",
      "Epoch 52/60\n",
      "21/21 [==============================] - 2s 73ms/step - loss: 0.3450 - accuracy: 0.8680 - val_loss: 0.4259 - val_accuracy: 0.8889\n",
      "Epoch 53/60\n",
      "21/21 [==============================] - 1s 63ms/step - loss: 0.3646 - accuracy: 0.8531 - val_loss: 0.4355 - val_accuracy: 0.8444\n",
      "Epoch 54/60\n",
      "21/21 [==============================] - 1s 45ms/step - loss: 0.4302 - accuracy: 0.8581 - val_loss: 0.3727 - val_accuracy: 0.8667\n",
      "Epoch 55/60\n",
      "21/21 [==============================] - 1s 42ms/step - loss: 0.3166 - accuracy: 0.8882 - val_loss: 0.5424 - val_accuracy: 0.8000\n",
      "Epoch 56/60\n",
      "21/21 [==============================] - 1s 43ms/step - loss: 0.3714 - accuracy: 0.8799 - val_loss: 0.4439 - val_accuracy: 0.8444\n",
      "Epoch 57/60\n",
      "21/21 [==============================] - 1s 37ms/step - loss: 0.5118 - accuracy: 0.8461 - val_loss: 0.4159 - val_accuracy: 0.8667\n",
      "Epoch 58/60\n",
      "21/21 [==============================] - 1s 43ms/step - loss: 0.5376 - accuracy: 0.8186 - val_loss: 0.4842 - val_accuracy: 0.8444\n",
      "Epoch 59/60\n",
      "21/21 [==============================] - 1s 40ms/step - loss: 0.4988 - accuracy: 0.8212 - val_loss: 0.5068 - val_accuracy: 0.8111\n",
      "Epoch 60/60\n",
      "21/21 [==============================] - 1s 41ms/step - loss: 0.3121 - accuracy: 0.8793 - val_loss: 0.3871 - val_accuracy: 0.8667\n"
     ]
    }
   ],
   "source": [
    "M1=model1.fit(train_set,validation_data=valid_set, epochs=60,verbose=1)"
   ]
  },
  {
   "cell_type": "code",
   "execution_count": 12,
   "id": "001af941",
   "metadata": {},
   "outputs": [],
   "source": [
    "def plot_performance(model_history):\n",
    "    plt.figure(figsize=(15, 5))\n",
    "    plt.subplot(1,2,1)\n",
    "    plt.grid(True)\n",
    "    plt.plot(model_history.history['accuracy'], 'b', label='train_acc')\n",
    "    plt.plot(model_history.history['val_accuracy'], 'y', label='val_acc')\n",
    "    plt.legend()\n",
    "    plt.title(\"Train-Validation accuracy vs Epochs\")\n",
    "    plt.subplot(1,2,2)\n",
    "    plt.grid(True)\n",
    "    plt.plot(model_history.history['loss'], 'b--', label='train_loss')\n",
    "    plt.plot(model_history.history['val_loss'], 'y--', label='val_loss')\n",
    "    plt.title(\"Train-Validation Loss vs Epochs\")\n",
    "    plt.legend()\n",
    "    plt.show()"
   ]
  },
  {
   "cell_type": "code",
   "execution_count": 13,
   "id": "fa409549",
   "metadata": {},
   "outputs": [
    {
     "data": {
      "image/png": "[encoded data removed]",
      "text/plain": [
       "<Figure size 1080x360 with 2 Axes>"
      ]
     },
     "metadata": {
      "needs_background": "light"
     },
     "output_type": "display_data"
    }
   ],
   "source": [
    "plot_performance(M1)"
   ]
  },
  {
   "cell_type": "markdown",
   "id": "9c0a9f98",
   "metadata": {},
   "source": [
    "#### Interpretation :\n",
    "\n",
    "It is evident from the graph that Train and Validation Accuracy go hand in hand overcoming Overfitting. But the loss clearly states that it is High. Hence we need to improve the Model further."
   ]
  },
  {
   "cell_type": "markdown",
   "id": "5be48ed1",
   "metadata": {},
   "source": [
    "<a id=\"mod2\"></a>\n",
    "### 3.2 MODEL 2"
   ]
  },
  {
   "cell_type": "code",
   "execution_count": 14,
   "id": "da243cc9",
   "metadata": {},
   "outputs": [],
   "source": [
    "model2 = Sequential()\n",
    "model2.add(Conv2D(30, (3, 3), input_shape=(28, 28, 1), activation='relu'))\n",
    "model2.add(MaxPooling2D(pool_size=(2, 2)))\n",
    "model2.add(Conv2D(20, (3, 3), activation='relu'))\n",
    "model2.add(MaxPooling2D(pool_size=(2, 2)))\n",
    "model2.add(Conv2D(15, (3, 3), activation='relu'))\n",
    "model2.add(MaxPooling2D(pool_size=(2, 2)))\n",
    "model2.add(Dropout(0.1))\n",
    "model2.add(Flatten())\n",
    "#model2.add(Dense(128, activation='relu'))\n",
    "model2.add(Dense(64, activation='relu'))\n",
    "model2.add(Dense(6, activation='softmax'))"
   ]
  },
  {
   "cell_type": "code",
   "execution_count": 15,
   "id": "f2a20abc",
   "metadata": {},
   "outputs": [],
   "source": [
    "# Compile model\n",
    "model2.compile(loss='categorical_crossentropy', optimizer='adam', metrics=['accuracy'])"
   ]
  },
  {
   "cell_type": "code",
   "execution_count": 16,
   "id": "0eddc760",
   "metadata": {},
   "outputs": [
    {
     "name": "stdout",
     "output_type": "stream",
     "text": [
      "Epoch 1/60\n",
      "21/21 [==============================] - 7s 108ms/step - loss: 1.7923 - accuracy: 0.1638 - val_loss: 1.7873 - val_accuracy: 0.1778\n",
      "Epoch 2/60\n",
      "21/21 [==============================] - 1s 39ms/step - loss: 1.7878 - accuracy: 0.1861 - val_loss: 1.7786 - val_accuracy: 0.2222\n",
      "Epoch 3/60\n",
      "21/21 [==============================] - 1s 40ms/step - loss: 1.7745 - accuracy: 0.3124 - val_loss: 1.7487 - val_accuracy: 0.3222\n",
      "Epoch 4/60\n",
      "21/21 [==============================] - 1s 38ms/step - loss: 1.7495 - accuracy: 0.2398 - val_loss: 1.6861 - val_accuracy: 0.3000\n",
      "Epoch 5/60\n",
      "21/21 [==============================] - 1s 40ms/step - loss: 1.6711 - accuracy: 0.2905 - val_loss: 1.5331 - val_accuracy: 0.3778\n",
      "Epoch 6/60\n",
      "21/21 [==============================] - 1s 40ms/step - loss: 1.5009 - accuracy: 0.3944 - val_loss: 1.3799 - val_accuracy: 0.4889\n",
      "Epoch 7/60\n",
      "21/21 [==============================] - 1s 40ms/step - loss: 1.4510 - accuracy: 0.3906 - val_loss: 1.2949 - val_accuracy: 0.5222\n",
      "Epoch 8/60\n",
      "21/21 [==============================] - 1s 45ms/step - loss: 1.2867 - accuracy: 0.4725 - val_loss: 1.0403 - val_accuracy: 0.7889\n",
      "Epoch 9/60\n",
      "21/21 [==============================] - 1s 42ms/step - loss: 1.2874 - accuracy: 0.4884 - val_loss: 0.9069 - val_accuracy: 0.8000\n",
      "Epoch 10/60\n",
      "21/21 [==============================] - 1s 41ms/step - loss: 0.9324 - accuracy: 0.6655 - val_loss: 0.7409 - val_accuracy: 0.8333\n",
      "Epoch 11/60\n",
      "21/21 [==============================] - 1s 42ms/step - loss: 0.8101 - accuracy: 0.7121 - val_loss: 0.5575 - val_accuracy: 0.8333\n",
      "Epoch 12/60\n",
      "21/21 [==============================] - 1s 42ms/step - loss: 0.7217 - accuracy: 0.7209 - val_loss: 0.4816 - val_accuracy: 0.8778\n",
      "Epoch 13/60\n",
      "21/21 [==============================] - 1s 41ms/step - loss: 0.5548 - accuracy: 0.8401 - val_loss: 0.3815 - val_accuracy: 0.9000\n",
      "Epoch 14/60\n",
      "21/21 [==============================] - 1s 43ms/step - loss: 0.5804 - accuracy: 0.8252 - val_loss: 0.3975 - val_accuracy: 0.8889\n",
      "Epoch 15/60\n",
      "21/21 [==============================] - 1s 43ms/step - loss: 0.5450 - accuracy: 0.8177 - val_loss: 0.3398 - val_accuracy: 0.9222\n",
      "Epoch 16/60\n",
      "21/21 [==============================] - 1s 42ms/step - loss: 0.4926 - accuracy: 0.8657 - val_loss: 0.3501 - val_accuracy: 0.8889\n",
      "Epoch 17/60\n",
      "21/21 [==============================] - 1s 43ms/step - loss: 0.3375 - accuracy: 0.8844 - val_loss: 0.2549 - val_accuracy: 0.9333\n",
      "Epoch 18/60\n",
      "21/21 [==============================] - 1s 40ms/step - loss: 0.3441 - accuracy: 0.8870 - val_loss: 0.2505 - val_accuracy: 0.9333\n",
      "Epoch 19/60\n",
      "21/21 [==============================] - 1s 41ms/step - loss: 0.3629 - accuracy: 0.8643 - val_loss: 0.2629 - val_accuracy: 0.9111\n",
      "Epoch 20/60\n",
      "21/21 [==============================] - 1s 42ms/step - loss: 0.3215 - accuracy: 0.9133 - val_loss: 0.2354 - val_accuracy: 0.9333\n",
      "Epoch 21/60\n",
      "21/21 [==============================] - 1s 41ms/step - loss: 0.3374 - accuracy: 0.8947 - val_loss: 0.3047 - val_accuracy: 0.8667\n",
      "Epoch 22/60\n",
      "21/21 [==============================] - 1s 41ms/step - loss: 0.3335 - accuracy: 0.8777 - val_loss: 0.2627 - val_accuracy: 0.9444\n",
      "Epoch 23/60\n",
      "21/21 [==============================] - 1s 42ms/step - loss: 0.3849 - accuracy: 0.8812 - val_loss: 0.2547 - val_accuracy: 0.9222\n",
      "Epoch 24/60\n",
      "21/21 [==============================] - 1s 40ms/step - loss: 0.3870 - accuracy: 0.8806 - val_loss: 0.1952 - val_accuracy: 0.9556\n",
      "Epoch 25/60\n",
      "21/21 [==============================] - 1s 46ms/step - loss: 0.2602 - accuracy: 0.9059 - val_loss: 0.2024 - val_accuracy: 0.9111\n",
      "Epoch 26/60\n",
      "21/21 [==============================] - 1s 42ms/step - loss: 0.2706 - accuracy: 0.9261 - val_loss: 0.1341 - val_accuracy: 0.9667\n",
      "Epoch 27/60\n",
      "21/21 [==============================] - 1s 41ms/step - loss: 0.2345 - accuracy: 0.9182 - val_loss: 0.1719 - val_accuracy: 0.9333\n",
      "Epoch 28/60\n",
      "21/21 [==============================] - 1s 38ms/step - loss: 0.2104 - accuracy: 0.9373 - val_loss: 0.1528 - val_accuracy: 0.9556\n",
      "Epoch 29/60\n",
      "21/21 [==============================] - 1s 40ms/step - loss: 0.1724 - accuracy: 0.9638 - val_loss: 0.1545 - val_accuracy: 0.9667\n",
      "Epoch 30/60\n",
      "21/21 [==============================] - 1s 43ms/step - loss: 0.1765 - accuracy: 0.9215 - val_loss: 0.1740 - val_accuracy: 0.9222\n",
      "Epoch 31/60\n",
      "21/21 [==============================] - 1s 50ms/step - loss: 0.1738 - accuracy: 0.9333 - val_loss: 0.1480 - val_accuracy: 0.9556\n",
      "Epoch 32/60\n",
      "21/21 [==============================] - 1s 41ms/step - loss: 0.1726 - accuracy: 0.9421 - val_loss: 0.1817 - val_accuracy: 0.9333\n",
      "Epoch 33/60\n",
      "21/21 [==============================] - 1s 39ms/step - loss: 0.1914 - accuracy: 0.9328 - val_loss: 0.1497 - val_accuracy: 0.9556\n",
      "Epoch 34/60\n",
      "21/21 [==============================] - 1s 40ms/step - loss: 0.1996 - accuracy: 0.9501 - val_loss: 0.2216 - val_accuracy: 0.9333\n",
      "Epoch 35/60\n",
      "21/21 [==============================] - 1s 41ms/step - loss: 0.1339 - accuracy: 0.9611 - val_loss: 0.0989 - val_accuracy: 0.9778\n",
      "Epoch 36/60\n",
      "21/21 [==============================] - 1s 41ms/step - loss: 0.1674 - accuracy: 0.9389 - val_loss: 0.2086 - val_accuracy: 0.9000\n",
      "Epoch 37/60\n",
      "21/21 [==============================] - 1s 43ms/step - loss: 0.1250 - accuracy: 0.9681 - val_loss: 0.2478 - val_accuracy: 0.9222\n",
      "Epoch 38/60\n",
      "21/21 [==============================] - 1s 42ms/step - loss: 0.1987 - accuracy: 0.9378 - val_loss: 0.1006 - val_accuracy: 0.9778\n",
      "Epoch 39/60\n",
      "21/21 [==============================] - 1s 41ms/step - loss: 0.1865 - accuracy: 0.9272 - val_loss: 0.2462 - val_accuracy: 0.9444\n",
      "Epoch 40/60\n",
      "21/21 [==============================] - 1s 38ms/step - loss: 0.1276 - accuracy: 0.9713 - val_loss: 0.2345 - val_accuracy: 0.9333\n",
      "Epoch 41/60\n",
      "21/21 [==============================] - 1s 38ms/step - loss: 0.1654 - accuracy: 0.9480 - val_loss: 0.2280 - val_accuracy: 0.9111\n",
      "Epoch 42/60\n",
      "21/21 [==============================] - 1s 41ms/step - loss: 0.2002 - accuracy: 0.9074 - val_loss: 0.1256 - val_accuracy: 0.9444\n",
      "Epoch 43/60\n",
      "21/21 [==============================] - 1s 39ms/step - loss: 0.1143 - accuracy: 0.9681 - val_loss: 0.2467 - val_accuracy: 0.9111\n",
      "Epoch 44/60\n",
      "21/21 [==============================] - 1s 41ms/step - loss: 0.2063 - accuracy: 0.9272 - val_loss: 0.1623 - val_accuracy: 0.9667\n",
      "Epoch 45/60\n",
      "21/21 [==============================] - 1s 50ms/step - loss: 0.1159 - accuracy: 0.9550 - val_loss: 0.2270 - val_accuracy: 0.9222\n",
      "Epoch 46/60\n",
      "21/21 [==============================] - 1s 54ms/step - loss: 0.1522 - accuracy: 0.9313 - val_loss: 0.1542 - val_accuracy: 0.9556\n",
      "Epoch 47/60\n",
      "21/21 [==============================] - 1s 44ms/step - loss: 0.1053 - accuracy: 0.9610 - val_loss: 0.1222 - val_accuracy: 0.9667\n",
      "Epoch 48/60\n",
      "21/21 [==============================] - 1s 43ms/step - loss: 0.0957 - accuracy: 0.9632 - val_loss: 0.1729 - val_accuracy: 0.9444\n",
      "Epoch 49/60\n",
      "21/21 [==============================] - 1s 44ms/step - loss: 0.0980 - accuracy: 0.9561 - val_loss: 0.1187 - val_accuracy: 0.9667\n",
      "Epoch 50/60\n",
      "21/21 [==============================] - 1s 41ms/step - loss: 0.0918 - accuracy: 0.9709 - val_loss: 0.1013 - val_accuracy: 0.9444\n",
      "Epoch 51/60\n",
      "21/21 [==============================] - 1s 43ms/step - loss: 0.0836 - accuracy: 0.9671 - val_loss: 0.1172 - val_accuracy: 0.9556\n",
      "Epoch 52/60\n",
      "21/21 [==============================] - 1s 55ms/step - loss: 0.0866 - accuracy: 0.9845 - val_loss: 0.0893 - val_accuracy: 0.9667\n",
      "Epoch 53/60\n",
      "21/21 [==============================] - 1s 39ms/step - loss: 0.0997 - accuracy: 0.9789 - val_loss: 0.1524 - val_accuracy: 0.9444\n",
      "Epoch 54/60\n",
      "21/21 [==============================] - 1s 41ms/step - loss: 0.0541 - accuracy: 0.9948 - val_loss: 0.1034 - val_accuracy: 0.9556\n",
      "Epoch 55/60\n",
      "21/21 [==============================] - 1s 38ms/step - loss: 0.1263 - accuracy: 0.9587 - val_loss: 0.1274 - val_accuracy: 0.9556\n",
      "Epoch 56/60\n",
      "21/21 [==============================] - 1s 39ms/step - loss: 0.0732 - accuracy: 0.9852 - val_loss: 0.1557 - val_accuracy: 0.9333\n",
      "Epoch 57/60\n",
      "21/21 [==============================] - 1s 44ms/step - loss: 0.1303 - accuracy: 0.9574 - val_loss: 0.1713 - val_accuracy: 0.9444\n",
      "Epoch 58/60\n",
      "21/21 [==============================] - 1s 39ms/step - loss: 0.1081 - accuracy: 0.9535 - val_loss: 0.2533 - val_accuracy: 0.9222\n",
      "Epoch 59/60\n",
      "21/21 [==============================] - 1s 43ms/step - loss: 0.1331 - accuracy: 0.9621 - val_loss: 0.1135 - val_accuracy: 0.9778\n",
      "Epoch 60/60\n",
      "21/21 [==============================] - 1s 37ms/step - loss: 0.1367 - accuracy: 0.9402 - val_loss: 0.0989 - val_accuracy: 0.9778\n"
     ]
    }
   ],
   "source": [
    "M2=model2.fit(train_set,validation_data=valid_set, epochs=60,shuffle=True,verbose=1)"
   ]
  },
  {
   "cell_type": "code",
   "execution_count": 17,
   "id": "2f18afc9",
   "metadata": {},
   "outputs": [
    {
     "data": {
      "image/png": "[encoded data removed]",
      "text/plain": [
       "<Figure size 1080x360 with 2 Axes>"
      ]
     },
     "metadata": {
      "needs_background": "light"
     },
     "output_type": "display_data"
    }
   ],
   "source": [
    "plot_performance(M2)"
   ]
  },
  {
   "cell_type": "markdown",
   "id": "ab032ad4",
   "metadata": {},
   "source": [
    "#### Interpretation :\n",
    "\n",
    "From the Above graph the train and Validation Accuracy has improved compared to Model 1. \n",
    "\n",
    "We can see that there is an Overfitting .\n",
    "\n",
    "It is important to notice that the Losses have drastically decreased, which indicates a good sign of Model Performance."
   ]
  },
  {
   "cell_type": "markdown",
   "id": "234e9de1",
   "metadata": {},
   "source": [
    "<a id=\"mod3\"></a>\n",
    "### 3.3 MODEL 3"
   ]
  },
  {
   "cell_type": "code",
   "execution_count": 18,
   "id": "b5e540fe",
   "metadata": {},
   "outputs": [],
   "source": [
    "model3 = Sequential()\n",
    "model3.add(Conv2D(10, (3, 3), input_shape=(28, 28, 1), activation='relu'))\n",
    "model3.add(MaxPooling2D(pool_size=(2, 2)))\n",
    "model3.add(Conv2D(5, (3, 3), activation='relu'))\n",
    "model3.add(MaxPooling2D(pool_size=(2, 2)))\n",
    "model3.add(Dropout(0.2))\n",
    "model3.add(Flatten())\n",
    "model3.add(Dense(64, activation='relu'))\n",
    "model3.add(Dense(6, activation='softmax'))"
   ]
  },
  {
   "cell_type": "code",
   "execution_count": 19,
   "id": "15c1c6a3",
   "metadata": {},
   "outputs": [],
   "source": [
    "# Compile model\n",
    "model3.compile(loss='categorical_crossentropy', optimizer='adam', metrics=['accuracy'])"
   ]
  },
  {
   "cell_type": "code",
   "execution_count": 20,
   "id": "82786c39",
   "metadata": {},
   "outputs": [
    {
     "name": "stdout",
     "output_type": "stream",
     "text": [
      "Epoch 1/60\n",
      "21/21 [==============================] - 6s 95ms/step - loss: 1.8502 - accuracy: 0.1416 - val_loss: 1.7788 - val_accuracy: 0.2111\n",
      "Epoch 2/60\n",
      "21/21 [==============================] - 1s 43ms/step - loss: 1.7850 - accuracy: 0.1541 - val_loss: 1.7674 - val_accuracy: 0.3333\n",
      "Epoch 3/60\n",
      "21/21 [==============================] - 1s 39ms/step - loss: 1.7653 - accuracy: 0.3315 - val_loss: 1.7222 - val_accuracy: 0.4444\n",
      "Epoch 4/60\n",
      "21/21 [==============================] - 1s 39ms/step - loss: 1.7074 - accuracy: 0.3600 - val_loss: 1.6094 - val_accuracy: 0.3778\n",
      "Epoch 5/60\n",
      "21/21 [==============================] - 1s 38ms/step - loss: 1.6371 - accuracy: 0.3817 - val_loss: 1.4190 - val_accuracy: 0.5111\n",
      "Epoch 6/60\n",
      "21/21 [==============================] - 1s 38ms/step - loss: 1.4410 - accuracy: 0.5179 - val_loss: 1.1088 - val_accuracy: 0.8000\n",
      "Epoch 7/60\n",
      "21/21 [==============================] - 1s 39ms/step - loss: 1.1258 - accuracy: 0.7633 - val_loss: 0.7228 - val_accuracy: 0.8889\n",
      "Epoch 8/60\n",
      "21/21 [==============================] - 1s 39ms/step - loss: 0.8452 - accuracy: 0.7953 - val_loss: 0.5153 - val_accuracy: 0.8889\n",
      "Epoch 9/60\n",
      "21/21 [==============================] - 1s 39ms/step - loss: 0.6162 - accuracy: 0.8478 - val_loss: 0.3706 - val_accuracy: 0.9222\n",
      "Epoch 10/60\n",
      "21/21 [==============================] - 1s 38ms/step - loss: 0.4521 - accuracy: 0.8714 - val_loss: 0.2912 - val_accuracy: 0.9222\n",
      "Epoch 11/60\n",
      "21/21 [==============================] - 1s 39ms/step - loss: 0.4352 - accuracy: 0.8424 - val_loss: 0.2382 - val_accuracy: 0.9444\n",
      "Epoch 12/60\n",
      "21/21 [==============================] - 1s 39ms/step - loss: 0.4162 - accuracy: 0.8661 - val_loss: 0.2299 - val_accuracy: 0.9333\n",
      "Epoch 13/60\n",
      "21/21 [==============================] - 1s 41ms/step - loss: 0.3943 - accuracy: 0.8862 - val_loss: 0.1683 - val_accuracy: 0.9556\n",
      "Epoch 14/60\n",
      "21/21 [==============================] - 1s 37ms/step - loss: 0.2759 - accuracy: 0.9193 - val_loss: 0.2183 - val_accuracy: 0.9000\n",
      "Epoch 15/60\n",
      "21/21 [==============================] - 1s 40ms/step - loss: 0.2838 - accuracy: 0.9012 - val_loss: 0.1753 - val_accuracy: 0.9444\n",
      "Epoch 16/60\n",
      "21/21 [==============================] - 1s 39ms/step - loss: 0.2985 - accuracy: 0.9099 - val_loss: 0.1783 - val_accuracy: 0.9556\n",
      "Epoch 17/60\n",
      "21/21 [==============================] - 1s 42ms/step - loss: 0.2238 - accuracy: 0.9430 - val_loss: 0.1382 - val_accuracy: 0.9778\n",
      "Epoch 18/60\n",
      "21/21 [==============================] - 1s 41ms/step - loss: 0.3160 - accuracy: 0.9034 - val_loss: 0.1428 - val_accuracy: 0.9222\n",
      "Epoch 19/60\n",
      "21/21 [==============================] - 1s 38ms/step - loss: 0.3083 - accuracy: 0.8886 - val_loss: 0.1212 - val_accuracy: 0.9667\n",
      "Epoch 20/60\n",
      "21/21 [==============================] - 1s 66ms/step - loss: 0.2302 - accuracy: 0.9448 - val_loss: 0.1119 - val_accuracy: 0.9778\n",
      "Epoch 21/60\n",
      "21/21 [==============================] - 1s 39ms/step - loss: 0.2317 - accuracy: 0.9391 - val_loss: 0.1712 - val_accuracy: 0.9444\n",
      "Epoch 22/60\n",
      "21/21 [==============================] - 1s 45ms/step - loss: 0.2376 - accuracy: 0.9308 - val_loss: 0.0933 - val_accuracy: 0.9778\n",
      "Epoch 23/60\n",
      "21/21 [==============================] - 1s 39ms/step - loss: 0.1528 - accuracy: 0.9750 - val_loss: 0.1369 - val_accuracy: 0.9556\n",
      "Epoch 24/60\n",
      "21/21 [==============================] - 1s 38ms/step - loss: 0.1472 - accuracy: 0.9633 - val_loss: 0.1417 - val_accuracy: 0.9333\n",
      "Epoch 25/60\n",
      "21/21 [==============================] - 1s 39ms/step - loss: 0.1426 - accuracy: 0.9678 - val_loss: 0.1647 - val_accuracy: 0.9444\n",
      "Epoch 26/60\n",
      "21/21 [==============================] - 1s 38ms/step - loss: 0.1184 - accuracy: 0.9695 - val_loss: 0.1498 - val_accuracy: 0.9222\n",
      "Epoch 27/60\n",
      "21/21 [==============================] - 1s 41ms/step - loss: 0.2285 - accuracy: 0.9083 - val_loss: 0.1216 - val_accuracy: 0.9444\n",
      "Epoch 28/60\n",
      "21/21 [==============================] - 1s 43ms/step - loss: 0.1533 - accuracy: 0.9513 - val_loss: 0.0968 - val_accuracy: 0.9556\n",
      "Epoch 29/60\n",
      "21/21 [==============================] - 1s 38ms/step - loss: 0.2074 - accuracy: 0.9285 - val_loss: 0.0909 - val_accuracy: 0.9778\n",
      "Epoch 30/60\n",
      "21/21 [==============================] - 1s 56ms/step - loss: 0.1251 - accuracy: 0.9693 - val_loss: 0.0865 - val_accuracy: 0.9667\n",
      "Epoch 31/60\n",
      "21/21 [==============================] - 1s 56ms/step - loss: 0.1977 - accuracy: 0.9430 - val_loss: 0.1379 - val_accuracy: 0.9556\n",
      "Epoch 32/60\n",
      "21/21 [==============================] - 1s 37ms/step - loss: 0.1891 - accuracy: 0.9188 - val_loss: 0.0874 - val_accuracy: 0.9667\n",
      "Epoch 33/60\n",
      "21/21 [==============================] - 1s 47ms/step - loss: 0.0945 - accuracy: 0.9809 - val_loss: 0.0980 - val_accuracy: 0.9556\n",
      "Epoch 34/60\n",
      "21/21 [==============================] - 1s 53ms/step - loss: 0.1219 - accuracy: 0.9553 - val_loss: 0.0560 - val_accuracy: 0.9889\n",
      "Epoch 35/60\n",
      "21/21 [==============================] - 1s 44ms/step - loss: 0.1315 - accuracy: 0.9541 - val_loss: 0.0841 - val_accuracy: 0.9667\n",
      "Epoch 36/60\n",
      "21/21 [==============================] - 1s 47ms/step - loss: 0.1140 - accuracy: 0.9621 - val_loss: 0.0569 - val_accuracy: 0.9889\n",
      "Epoch 37/60\n",
      "21/21 [==============================] - 1s 49ms/step - loss: 0.0785 - accuracy: 0.9763 - val_loss: 0.1096 - val_accuracy: 0.9556\n",
      "Epoch 38/60\n",
      "21/21 [==============================] - 1s 40ms/step - loss: 0.1395 - accuracy: 0.9629 - val_loss: 0.0721 - val_accuracy: 0.9778\n",
      "Epoch 39/60\n",
      "21/21 [==============================] - 1s 40ms/step - loss: 0.1929 - accuracy: 0.9229 - val_loss: 0.1012 - val_accuracy: 0.9667\n",
      "Epoch 40/60\n",
      "21/21 [==============================] - 1s 38ms/step - loss: 0.1715 - accuracy: 0.9564 - val_loss: 0.0637 - val_accuracy: 0.9778\n",
      "Epoch 41/60\n",
      "21/21 [==============================] - 1s 38ms/step - loss: 0.0946 - accuracy: 0.9802 - val_loss: 0.0705 - val_accuracy: 0.9667\n",
      "Epoch 42/60\n",
      "21/21 [==============================] - 1s 38ms/step - loss: 0.1242 - accuracy: 0.9480 - val_loss: 0.0864 - val_accuracy: 0.9556\n",
      "Epoch 43/60\n",
      "21/21 [==============================] - 1s 38ms/step - loss: 0.1099 - accuracy: 0.9720 - val_loss: 0.0473 - val_accuracy: 0.9778\n",
      "Epoch 44/60\n",
      "21/21 [==============================] - 1s 37ms/step - loss: 0.1153 - accuracy: 0.9624 - val_loss: 0.0724 - val_accuracy: 0.9778\n",
      "Epoch 45/60\n",
      "21/21 [==============================] - 1s 38ms/step - loss: 0.1290 - accuracy: 0.9484 - val_loss: 0.0979 - val_accuracy: 0.9778\n",
      "Epoch 46/60\n",
      "21/21 [==============================] - 1s 37ms/step - loss: 0.1088 - accuracy: 0.9732 - val_loss: 0.0480 - val_accuracy: 0.9889\n",
      "Epoch 47/60\n",
      "21/21 [==============================] - 1s 37ms/step - loss: 0.1091 - accuracy: 0.9705 - val_loss: 0.1027 - val_accuracy: 0.9444\n",
      "Epoch 48/60\n",
      "21/21 [==============================] - 1s 37ms/step - loss: 0.1076 - accuracy: 0.9670 - val_loss: 0.1055 - val_accuracy: 0.9556\n",
      "Epoch 49/60\n",
      "21/21 [==============================] - 1s 36ms/step - loss: 0.1048 - accuracy: 0.9653 - val_loss: 0.0787 - val_accuracy: 0.9667\n",
      "Epoch 50/60\n",
      "21/21 [==============================] - 1s 36ms/step - loss: 0.0856 - accuracy: 0.9780 - val_loss: 0.0684 - val_accuracy: 0.9667\n",
      "Epoch 51/60\n",
      "21/21 [==============================] - 1s 36ms/step - loss: 0.0771 - accuracy: 0.9831 - val_loss: 0.0769 - val_accuracy: 0.9778\n",
      "Epoch 52/60\n",
      "21/21 [==============================] - 1s 37ms/step - loss: 0.0913 - accuracy: 0.9763 - val_loss: 0.0529 - val_accuracy: 0.9889\n",
      "Epoch 53/60\n",
      "21/21 [==============================] - 1s 37ms/step - loss: 0.1280 - accuracy: 0.9509 - val_loss: 0.0397 - val_accuracy: 0.9889\n",
      "Epoch 54/60\n",
      "21/21 [==============================] - 1s 36ms/step - loss: 0.0713 - accuracy: 0.9769 - val_loss: 0.0564 - val_accuracy: 0.9778\n",
      "Epoch 55/60\n",
      "21/21 [==============================] - 1s 38ms/step - loss: 0.0579 - accuracy: 0.9857 - val_loss: 0.1525 - val_accuracy: 0.9444\n",
      "Epoch 56/60\n",
      "21/21 [==============================] - 1s 37ms/step - loss: 0.0871 - accuracy: 0.9672 - val_loss: 0.1218 - val_accuracy: 0.9444\n",
      "Epoch 57/60\n",
      "21/21 [==============================] - 1s 38ms/step - loss: 0.0690 - accuracy: 1.0000 - val_loss: 0.0769 - val_accuracy: 0.9444\n",
      "Epoch 58/60\n",
      "21/21 [==============================] - 1s 41ms/step - loss: 0.0541 - accuracy: 0.9855 - val_loss: 0.0453 - val_accuracy: 0.9778\n",
      "Epoch 59/60\n",
      "21/21 [==============================] - 1s 43ms/step - loss: 0.0481 - accuracy: 0.9864 - val_loss: 0.0732 - val_accuracy: 0.9889\n",
      "Epoch 60/60\n",
      "21/21 [==============================] - 1s 42ms/step - loss: 0.0783 - accuracy: 0.9898 - val_loss: 0.0596 - val_accuracy: 0.9778\n"
     ]
    }
   ],
   "source": [
    "M3=model3.fit(train_set,validation_data=valid_set, epochs=60,shuffle=True,verbose=1)"
   ]
  },
  {
   "cell_type": "code",
   "execution_count": 21,
   "id": "b3dab20b",
   "metadata": {},
   "outputs": [
    {
     "data": {
      "image/png": "[encoded data removed]",
      "text/plain": [
       "<Figure size 1080x360 with 2 Axes>"
      ]
     },
     "metadata": {
      "needs_background": "light"
     },
     "output_type": "display_data"
    }
   ],
   "source": [
    "plot_performance(M3)"
   ]
  },
  {
   "cell_type": "markdown",
   "id": "27f14998",
   "metadata": {},
   "source": [
    "#### Interpretation :\n",
    "\n",
    "This is our best Model handles overfitting and fetches a reasonably low loss, when comparing train and Validation."
   ]
  },
  {
   "cell_type": "markdown",
   "id": "7c77146b",
   "metadata": {},
   "source": [
    "<a id=\"savewtg\"></a>\n",
    "# 4. Saving the Weights"
   ]
  },
  {
   "cell_type": "code",
   "execution_count": 22,
   "id": "92f3fdf1",
   "metadata": {},
   "outputs": [],
   "source": [
    "model_json = model3.to_json()\n",
    "with open(\"model_final.json\", \"w\") as json_file:\n",
    "    json_file.write(model_json)\n",
    "# serialize weights to HDF5\n",
    "model3.save_weights(\"model3_final.h5\")"
   ]
  },
  {
   "cell_type": "markdown",
   "id": "46a8f0e9",
   "metadata": {},
   "source": [
    "<a id=\"soleq\"></a>\n",
    "# 5. Solving HandWritten Equations"
   ]
  },
  {
   "cell_type": "code",
   "execution_count": 84,
   "id": "77a716c6",
   "metadata": {},
   "outputs": [],
   "source": [
    "def prediction(img):\n",
    "    #plt.imshow(img, cmap = 'gray')\n",
    "    img = cv2.resize(img,(28, 28))\n",
    "    #norm_image = cv2.normalize(img, None, alpha = 0, beta = 1, norm_type = cv2.NORM_MINMAX, dtype = cv2.CV_32F)\n",
    "    norm_image=img/255.0\n",
    "    norm_image = norm_image.reshape((norm_image.shape[0], norm_image.shape[1], 1))\n",
    "    case = np.asarray([norm_image])\n",
    "    pred = model3.predict_classes([case])\n",
    "    \n",
    "    return ([i for i in train_set.class_indices if train_set.class_indices[i]==(pred[0])][0],pred)"
   ]
  },
  {
   "cell_type": "markdown",
   "id": "00d9c252",
   "metadata": {},
   "source": [
    "<a id=\"label\"></a>\n",
    "# 6. Creating Label Maps for the Classes"
   ]
  },
  {
   "cell_type": "code",
   "execution_count": 86,
   "id": "18a5c897",
   "metadata": {},
   "outputs": [
    {
     "data": {
      "text/plain": [
       "{'+': 0, '1': 1, '2': 2, '3': 3, '4': 4, 'x': 5}"
      ]
     },
     "execution_count": 86,
     "metadata": {},
     "output_type": "execute_result"
    }
   ],
   "source": [
    "train_set.class_indices"
   ]
  },
  {
   "cell_type": "code",
   "execution_count": 87,
   "id": "80e6fee6",
   "metadata": {},
   "outputs": [
    {
     "data": {
      "text/plain": [
       "{'+': 0, '1': 1, '2': 2, '3': 3, '4': 4, 'x': 5}"
      ]
     },
     "execution_count": 87,
     "metadata": {},
     "output_type": "execute_result"
    }
   ],
   "source": [
    "label_map = (train_set.class_indices)\n",
    "label_map"
   ]
  },
  {
   "cell_type": "code",
   "execution_count": 88,
   "id": "44ead262",
   "metadata": {},
   "outputs": [],
   "source": [
    "def image_path(path):\n",
    "    image=cv2.imread(path)\n",
    "    gray = cv2.cvtColor(image, cv2.COLOR_BGR2GRAY)\n",
    "    blurred = cv2.GaussianBlur(image, (5, 5), 0)\n",
    "# perform edge detection, find contours in the edge map, and sort the\n",
    "# resulting contours from left-to-right\n",
    "    edged = cv2.Canny(blurred, 30, 150)\n",
    "    cnts = cv2.findContours(edged.copy(), cv2.RETR_EXTERNAL,cv2.CHAIN_APPROX_SIMPLE)\n",
    "    cnts = imutils.grab_contours(cnts)\n",
    "    cnts = sort_contours(cnts, method=\"left-to-right\")[0]\n",
    "    chars=[]\n",
    "    for c in cnts:\n",
    "    # compute the bounding box of the contour\n",
    "        (x, y, w, h) = cv2.boundingRect(c)\n",
    "    # filter out bounding boxes, ensuring they are neither too small\n",
    "    # nor too large\n",
    "        if w*h>1200:\n",
    "        # extract the character and threshold it to make the character\n",
    "        # appear as *white* (foreground) on a *black* background, then\n",
    "        # grab the width and height of the thresholded image\n",
    "            roi = gray[y:y + h, x:x + w]\n",
    "            chars.append(prediction(roi))\n",
    "            cv2.rectangle(image, (x, y), (x + w, y + h), (0, 255, 0), 2)\n",
    "    return chars,image"
   ]
  },
  {
   "cell_type": "markdown",
   "id": "0af8797d",
   "metadata": {},
   "source": [
    "<a id=\"modeleval\"></a>\n",
    "# 7 Model Evaluation"
   ]
  },
  {
   "cell_type": "markdown",
   "id": "173db72c",
   "metadata": {},
   "source": [
    "<a id=\"test1\"></a>\n",
    "### 7.1 TEST CASE 1"
   ]
  },
  {
   "cell_type": "code",
   "execution_count": 90,
   "id": "e2bc2a46",
   "metadata": {},
   "outputs": [],
   "source": [
    "path='D:\\\\M. Tech in Data Science & Machine Learning\\\\Deep Learning\\\\Project\\\\Handwritten-Equation-Solver\\\\test1.jpeg'\n",
    "chars,image=image_path(path)"
   ]
  },
  {
   "cell_type": "code",
   "execution_count": 91,
   "id": "339a72e0",
   "metadata": {},
   "outputs": [
    {
     "data": {
      "text/plain": [
       "[('2', array([2], dtype=int64)),\n",
       " ('3', array([3], dtype=int64)),\n",
       " ('+', array([0], dtype=int64)),\n",
       " ('2', array([2], dtype=int64))]"
      ]
     },
     "execution_count": 91,
     "metadata": {},
     "output_type": "execute_result"
    }
   ],
   "source": [
    "chars"
   ]
  },
  {
   "cell_type": "code",
   "execution_count": 92,
   "id": "c596759d",
   "metadata": {},
   "outputs": [
    {
     "data": {
      "text/plain": [
       "<matplotlib.image.AxesImage at 0x224bc77b6d8>"
      ]
     },
     "execution_count": 92,
     "metadata": {},
     "output_type": "execute_result"
    },
    {
     "data": {
      "image/png": "[encoded data removed]",
      "text/plain": [
       "<Figure size 360x360 with 1 Axes>"
      ]
     },
     "metadata": {
      "needs_background": "light"
     },
     "output_type": "display_data"
    }
   ],
   "source": [
    "plt.figure(figsize=(5,5))\n",
    "plt.imshow(image)"
   ]
  },
  {
   "cell_type": "code",
   "execution_count": 93,
   "id": "95ca32e4",
   "metadata": {},
   "outputs": [],
   "source": [
    "def NumericalSolver(characters):\n",
    "        c=[]\n",
    "        \n",
    "        for i in characters:\n",
    "            if i[0][:]=='x':\n",
    "                pos = i[0][:].replace(\"x\",\"*\")\n",
    "                c.append(pos)\n",
    "            else:\n",
    "                c.append(i[0][:])\n",
    "\n",
    "        EQUATION=' '\n",
    "        for i in c:\n",
    "            EQUATION=EQUATION + (i[0][0])\n",
    "        print('The Handwritten equation is :',EQUATION)\n",
    "        print('The result is : ',eval(EQUATION))"
   ]
  },
  {
   "cell_type": "code",
   "execution_count": 94,
   "id": "d2c2653d",
   "metadata": {},
   "outputs": [
    {
     "name": "stdout",
     "output_type": "stream",
     "text": [
      "The Handwritten equation is :  23+2\n",
      "The result is :  25\n"
     ]
    }
   ],
   "source": [
    "NumericalSolver(chars)"
   ]
  },
  {
   "cell_type": "markdown",
   "id": "d93cd712",
   "metadata": {},
   "source": [
    "<a id=\"test2\"></a>\n",
    "### 7.2 TEST CASE 2"
   ]
  },
  {
   "cell_type": "code",
   "execution_count": 96,
   "id": "81f6c5ea",
   "metadata": {},
   "outputs": [],
   "source": [
    "path='D:\\\\M. Tech in Data Science & Machine Learning\\\\Deep Learning\\\\Project\\\\Handwritten-Equation-Solver\\\\test2.jpeg'\n",
    "chars,image=image_path(path)"
   ]
  },
  {
   "cell_type": "code",
   "execution_count": 97,
   "id": "8416fe73",
   "metadata": {},
   "outputs": [
    {
     "data": {
      "text/plain": [
       "[('1', array([1], dtype=int64)),\n",
       " ('2', array([2], dtype=int64)),\n",
       " ('x', array([5], dtype=int64)),\n",
       " ('3', array([3], dtype=int64))]"
      ]
     },
     "execution_count": 97,
     "metadata": {},
     "output_type": "execute_result"
    }
   ],
   "source": [
    "chars"
   ]
  },
  {
   "cell_type": "code",
   "execution_count": 98,
   "id": "02f68cee",
   "metadata": {},
   "outputs": [
    {
     "data": {
      "text/plain": [
       "<matplotlib.image.AxesImage at 0x224bc524b70>"
      ]
     },
     "execution_count": 98,
     "metadata": {},
     "output_type": "execute_result"
    },
    {
     "data": {
      "image/png": "[encoded data removed]",
      "text/plain": [
       "<Figure size 360x360 with 1 Axes>"
      ]
     },
     "metadata": {
      "needs_background": "light"
     },
     "output_type": "display_data"
    }
   ],
   "source": [
    "plt.figure(figsize=(5,5))\n",
    "plt.imshow(image)"
   ]
  },
  {
   "cell_type": "code",
   "execution_count": 99,
   "id": "14675720",
   "metadata": {},
   "outputs": [
    {
     "name": "stdout",
     "output_type": "stream",
     "text": [
      "The Handwritten equation is :  12*3\n",
      "The result is :  36\n"
     ]
    }
   ],
   "source": [
    "NumericalSolver(chars)"
   ]
  },
  {
   "cell_type": "markdown",
   "id": "491cb99b",
   "metadata": {},
   "source": [
    "<a id=\"test3\"></a>\n",
    "### 7.3 TEST CASE 3"
   ]
  },
  {
   "cell_type": "code",
   "execution_count": 100,
   "id": "6e36f689",
   "metadata": {},
   "outputs": [],
   "source": [
    "path='D:\\\\M. Tech in Data Science & Machine Learning\\\\Deep Learning\\\\Project\\\\Handwritten-Equation-Solver\\\\test3.jpeg'\n",
    "chars,image=image_path(path)"
   ]
  },
  {
   "cell_type": "code",
   "execution_count": 101,
   "id": "9c4cef75",
   "metadata": {},
   "outputs": [
    {
     "data": {
      "text/plain": [
       "[('4', array([4], dtype=int64)),\n",
       " ('3', array([3], dtype=int64)),\n",
       " ('+', array([0], dtype=int64)),\n",
       " ('2', array([2], dtype=int64)),\n",
       " ('1', array([1], dtype=int64))]"
      ]
     },
     "execution_count": 101,
     "metadata": {},
     "output_type": "execute_result"
    }
   ],
   "source": [
    "chars"
   ]
  },
  {
   "cell_type": "code",
   "execution_count": 102,
   "id": "ef8cdcbf",
   "metadata": {},
   "outputs": [
    {
     "data": {
      "text/plain": [
       "<matplotlib.image.AxesImage at 0x224bc3e6048>"
      ]
     },
     "execution_count": 102,
     "metadata": {},
     "output_type": "execute_result"
    },
    {
     "data": {
      "image/png": "[encoded data removed]",
      "text/plain": [
       "<Figure size 360x360 with 1 Axes>"
      ]
     },
     "metadata": {
      "needs_background": "light"
     },
     "output_type": "display_data"
    }
   ],
   "source": [
    "plt.figure(figsize=(5,5))\n",
    "plt.imshow(image)"
   ]
  },
  {
   "cell_type": "code",
   "execution_count": 103,
   "id": "caaa26ea",
   "metadata": {},
   "outputs": [
    {
     "name": "stdout",
     "output_type": "stream",
     "text": [
      "The Handwritten equation is :  43+21\n",
      "The result is :  64\n"
     ]
    }
   ],
   "source": [
    "NumericalSolver(chars)"
   ]
  },
  {
   "cell_type": "markdown",
   "id": "4cca72b1",
   "metadata": {},
   "source": [
    "<a id=\"conclusion\"></a>\n",
    "# 8. CONCLUSION"
   ]
  },
  {
   "cell_type": "markdown",
   "id": "321d0855",
   "metadata": {},
   "source": [
    "The final model was able to correctly identify and evaluate most of the samples, but on some occasions it failed to identify one or more characters due to the lack of training samples."
   ]
  }
 ],
 "metadata": {
  "kernelspec": {
   "display_name": "Python 3",
   "language": "python",
   "name": "python3"
  },
  "language_info": {
   "codemirror_mode": {
    "name": "ipython",
    "version": 3
   },
   "file_extension": ".py",
   "mimetype": "text/x-python",
   "name": "python",
   "nbconvert_exporter": "python",
   "pygments_lexer": "ipython3",
   "version": "3.6.13"
  }
 },
 "nbformat": 4,
 "nbformat_minor": 5
}
